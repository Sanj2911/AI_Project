{
 "cells": [
  {
   "cell_type": "code",
   "execution_count": 85,
   "metadata": {
    "colab": {
     "base_uri": "https://localhost:8080/",
     "height": 677
    },
    "id": "eJtHNtin9ww0",
    "outputId": "2a9f3b0a-5394-4232-b914-448d97f7a60e"
   },
   "outputs": [
    {
     "data": {
      "text/html": [
       "<div>\n",
       "<style scoped>\n",
       "    .dataframe tbody tr th:only-of-type {\n",
       "        vertical-align: middle;\n",
       "    }\n",
       "\n",
       "    .dataframe tbody tr th {\n",
       "        vertical-align: top;\n",
       "    }\n",
       "\n",
       "    .dataframe thead th {\n",
       "        text-align: right;\n",
       "    }\n",
       "</style>\n",
       "<table border=\"1\" class=\"dataframe\">\n",
       "  <thead>\n",
       "    <tr style=\"text-align: right;\">\n",
       "      <th></th>\n",
       "      <th>Timestamp</th>\n",
       "      <th>Age</th>\n",
       "      <th>Gender</th>\n",
       "      <th>Faculty</th>\n",
       "      <th>Year of study</th>\n",
       "      <th>Sleep(night)</th>\n",
       "      <th>Exercise frequency</th>\n",
       "      <th>Frequent food</th>\n",
       "      <th>Fast food consumption frequency</th>\n",
       "      <th>Diet type</th>\n",
       "      <th>Food allergies</th>\n",
       "      <th>Weight</th>\n",
       "      <th>Height</th>\n",
       "      <th>Health conditions</th>\n",
       "      <th>Weekly spend for food</th>\n",
       "      <th>University canteen usage</th>\n",
       "      <th>Preferred Sri Lankan foods</th>\n",
       "      <th>Diet goal</th>\n",
       "      <th>Protein(g)</th>\n",
       "    </tr>\n",
       "  </thead>\n",
       "  <tbody>\n",
       "    <tr>\n",
       "      <th>0</th>\n",
       "      <td>25/10/2024 10:10:08</td>\n",
       "      <td>24-26</td>\n",
       "      <td>Female</td>\n",
       "      <td>FAS</td>\n",
       "      <td>4th year</td>\n",
       "      <td>More than 8 hours</td>\n",
       "      <td>Never</td>\n",
       "      <td>Traditional Sri Lankan food, Processed foods (...</td>\n",
       "      <td>2-3 times a week</td>\n",
       "      <td>No specific diet</td>\n",
       "      <td>Dryfish</td>\n",
       "      <td>40 - 49 kg</td>\n",
       "      <td>157cm</td>\n",
       "      <td>Gastritis</td>\n",
       "      <td>More than 3,000 LKR</td>\n",
       "      <td>Daily</td>\n",
       "      <td>Rice and curry, Hoppers</td>\n",
       "      <td>Better health</td>\n",
       "      <td>57.6</td>\n",
       "    </tr>\n",
       "    <tr>\n",
       "      <th>1</th>\n",
       "      <td>25/10/2024 10:19:28</td>\n",
       "      <td>24-26</td>\n",
       "      <td>Male</td>\n",
       "      <td>FAS</td>\n",
       "      <td>4th year</td>\n",
       "      <td>6-8 hours</td>\n",
       "      <td>1-2 times per week</td>\n",
       "      <td>Traditional Sri Lankan food</td>\n",
       "      <td>Never</td>\n",
       "      <td>No specific diet</td>\n",
       "      <td>NaN</td>\n",
       "      <td>80 - 89 kg</td>\n",
       "      <td>172cm</td>\n",
       "      <td>High cholesterol</td>\n",
       "      <td>2,000 - 3,000 LKR</td>\n",
       "      <td>Daily</td>\n",
       "      <td>Rice and curry, String hoppers</td>\n",
       "      <td>Manage health conditions</td>\n",
       "      <td>132.0</td>\n",
       "    </tr>\n",
       "    <tr>\n",
       "      <th>2</th>\n",
       "      <td>25/10/2024 14:30:21</td>\n",
       "      <td>24-26</td>\n",
       "      <td>Female</td>\n",
       "      <td>FLFN</td>\n",
       "      <td>4th year</td>\n",
       "      <td>6-8 hours</td>\n",
       "      <td>Never</td>\n",
       "      <td>Traditional Sri Lankan food, Fast food (e.g., ...</td>\n",
       "      <td>2-3 times a week</td>\n",
       "      <td>No specific diet</td>\n",
       "      <td>NaN</td>\n",
       "      <td>50 - 59 kg</td>\n",
       "      <td>144cm</td>\n",
       "      <td>Gastritis</td>\n",
       "      <td>1,000 - 2,000 LKR</td>\n",
       "      <td>Rarely/Never</td>\n",
       "      <td>Rice and curry, Hoppers, Roti</td>\n",
       "      <td>Better health</td>\n",
       "      <td>72.0</td>\n",
       "    </tr>\n",
       "    <tr>\n",
       "      <th>3</th>\n",
       "      <td>25/10/2024 14:35:40</td>\n",
       "      <td>24-26</td>\n",
       "      <td>Male</td>\n",
       "      <td>FLFN</td>\n",
       "      <td>4th year</td>\n",
       "      <td>More than 8 hours</td>\n",
       "      <td>1-2 times per week</td>\n",
       "      <td>Traditional Sri Lankan food, Fast food (e.g., ...</td>\n",
       "      <td>2-3 times a week</td>\n",
       "      <td>No specific diet</td>\n",
       "      <td>NaN</td>\n",
       "      <td>50 - 59 kg</td>\n",
       "      <td>175cm</td>\n",
       "      <td>NaN</td>\n",
       "      <td>2,000 - 3,000 LKR</td>\n",
       "      <td>Daily</td>\n",
       "      <td>Rice and curry, String hoppers, Kottu, Hoppers...</td>\n",
       "      <td>Better health</td>\n",
       "      <td>82.5</td>\n",
       "    </tr>\n",
       "    <tr>\n",
       "      <th>4</th>\n",
       "      <td>25/10/2024 14:59:37</td>\n",
       "      <td>24-26</td>\n",
       "      <td>Female</td>\n",
       "      <td>FLFN</td>\n",
       "      <td>4th year</td>\n",
       "      <td>6-8 hours</td>\n",
       "      <td>Never</td>\n",
       "      <td>Traditional Sri Lankan food, Fruits and vegeta...</td>\n",
       "      <td>Once a week</td>\n",
       "      <td>No specific diet</td>\n",
       "      <td>NaN</td>\n",
       "      <td>40 - 49 kg</td>\n",
       "      <td>160cm</td>\n",
       "      <td>NaN</td>\n",
       "      <td>2,000 - 3,000 LKR</td>\n",
       "      <td>Daily</td>\n",
       "      <td>Rice and curry, Hoppers, Roti</td>\n",
       "      <td>Improve energy levels</td>\n",
       "      <td>57.6</td>\n",
       "    </tr>\n",
       "  </tbody>\n",
       "</table>\n",
       "</div>"
      ],
      "text/plain": [
       "             Timestamp    Age  Gender Faculty Year of study  \\\n",
       "0  25/10/2024 10:10:08  24-26  Female     FAS      4th year   \n",
       "1  25/10/2024 10:19:28  24-26    Male     FAS      4th year   \n",
       "2  25/10/2024 14:30:21  24-26  Female    FLFN      4th year   \n",
       "3  25/10/2024 14:35:40  24-26    Male    FLFN      4th year   \n",
       "4  25/10/2024 14:59:37  24-26  Female    FLFN      4th year   \n",
       "\n",
       "        Sleep(night)  Exercise frequency  \\\n",
       "0  More than 8 hours               Never   \n",
       "1          6-8 hours  1-2 times per week   \n",
       "2          6-8 hours               Never   \n",
       "3  More than 8 hours  1-2 times per week   \n",
       "4          6-8 hours               Never   \n",
       "\n",
       "                                       Frequent food  \\\n",
       "0  Traditional Sri Lankan food, Processed foods (...   \n",
       "1                        Traditional Sri Lankan food   \n",
       "2  Traditional Sri Lankan food, Fast food (e.g., ...   \n",
       "3  Traditional Sri Lankan food, Fast food (e.g., ...   \n",
       "4  Traditional Sri Lankan food, Fruits and vegeta...   \n",
       "\n",
       "  Fast food consumption frequency         Diet type Food allergies  \\\n",
       "0                2-3 times a week  No specific diet        Dryfish   \n",
       "1                           Never  No specific diet            NaN   \n",
       "2                2-3 times a week  No specific diet            NaN   \n",
       "3                2-3 times a week  No specific diet            NaN   \n",
       "4                     Once a week  No specific diet            NaN   \n",
       "\n",
       "       Weight Height Health conditions Weekly spend for food  \\\n",
       "0  40 - 49 kg  157cm         Gastritis   More than 3,000 LKR   \n",
       "1  80 - 89 kg  172cm  High cholesterol     2,000 - 3,000 LKR   \n",
       "2  50 - 59 kg  144cm         Gastritis     1,000 - 2,000 LKR   \n",
       "3  50 - 59 kg  175cm               NaN     2,000 - 3,000 LKR   \n",
       "4  40 - 49 kg  160cm               NaN     2,000 - 3,000 LKR   \n",
       "\n",
       "  University canteen usage                         Preferred Sri Lankan foods  \\\n",
       "0                    Daily                            Rice and curry, Hoppers   \n",
       "1                    Daily                     Rice and curry, String hoppers   \n",
       "2             Rarely/Never                      Rice and curry, Hoppers, Roti   \n",
       "3                    Daily  Rice and curry, String hoppers, Kottu, Hoppers...   \n",
       "4                    Daily                      Rice and curry, Hoppers, Roti   \n",
       "\n",
       "                  Diet goal  Protein(g)  \n",
       "0             Better health        57.6  \n",
       "1  Manage health conditions       132.0  \n",
       "2             Better health        72.0  \n",
       "3             Better health        82.5  \n",
       "4     Improve energy levels        57.6  "
      ]
     },
     "execution_count": 85,
     "metadata": {},
     "output_type": "execute_result"
    }
   ],
   "source": [
    "import pandas as pd\n",
    "\n",
    "df = pd.read_csv('Modified_dataset_protein.csv')\n",
    "df.head()"
   ]
  },
  {
   "cell_type": "code",
   "execution_count": 86,
   "metadata": {
    "id": "uedimSCu95wX"
   },
   "outputs": [],
   "source": [
    "# Drop the specific column\n",
    "df = df.drop(columns=['Timestamp'])"
   ]
  },
  {
   "cell_type": "code",
   "execution_count": 87,
   "metadata": {
    "colab": {
     "base_uri": "https://localhost:8080/",
     "height": 300
    },
    "id": "rjc7p3lO-GR1",
    "outputId": "1b4165d1-e0f2-4362-9d68-c2b31aa285a9"
   },
   "outputs": [
    {
     "data": {
      "text/html": [
       "<div>\n",
       "<style scoped>\n",
       "    .dataframe tbody tr th:only-of-type {\n",
       "        vertical-align: middle;\n",
       "    }\n",
       "\n",
       "    .dataframe tbody tr th {\n",
       "        vertical-align: top;\n",
       "    }\n",
       "\n",
       "    .dataframe thead th {\n",
       "        text-align: right;\n",
       "    }\n",
       "</style>\n",
       "<table border=\"1\" class=\"dataframe\">\n",
       "  <thead>\n",
       "    <tr style=\"text-align: right;\">\n",
       "      <th></th>\n",
       "      <th>Protein(g)</th>\n",
       "    </tr>\n",
       "  </thead>\n",
       "  <tbody>\n",
       "    <tr>\n",
       "      <th>count</th>\n",
       "      <td>565.000000</td>\n",
       "    </tr>\n",
       "    <tr>\n",
       "      <th>mean</th>\n",
       "      <td>95.656637</td>\n",
       "    </tr>\n",
       "    <tr>\n",
       "      <th>std</th>\n",
       "      <td>26.146340</td>\n",
       "    </tr>\n",
       "    <tr>\n",
       "      <th>min</th>\n",
       "      <td>57.600000</td>\n",
       "    </tr>\n",
       "    <tr>\n",
       "      <th>25%</th>\n",
       "      <td>74.400000</td>\n",
       "    </tr>\n",
       "    <tr>\n",
       "      <th>50%</th>\n",
       "      <td>93.000000</td>\n",
       "    </tr>\n",
       "    <tr>\n",
       "      <th>75%</th>\n",
       "      <td>115.200000</td>\n",
       "    </tr>\n",
       "    <tr>\n",
       "      <th>max</th>\n",
       "      <td>165.600000</td>\n",
       "    </tr>\n",
       "  </tbody>\n",
       "</table>\n",
       "</div>"
      ],
      "text/plain": [
       "       Protein(g)\n",
       "count  565.000000\n",
       "mean    95.656637\n",
       "std     26.146340\n",
       "min     57.600000\n",
       "25%     74.400000\n",
       "50%     93.000000\n",
       "75%    115.200000\n",
       "max    165.600000"
      ]
     },
     "execution_count": 87,
     "metadata": {},
     "output_type": "execute_result"
    }
   ],
   "source": [
    "df.describe()"
   ]
  },
  {
   "cell_type": "code",
   "execution_count": 88,
   "metadata": {
    "colab": {
     "base_uri": "https://localhost:8080/",
     "height": 648
    },
    "id": "qBJtxOdV-JHN",
    "outputId": "c980db5f-1ded-42fd-c495-1d357e04b1d2"
   },
   "outputs": [
    {
     "data": {
      "text/plain": [
       "Age                                  0\n",
       "Gender                               0\n",
       "Faculty                              0\n",
       "Year of study                        0\n",
       "Sleep(night)                         0\n",
       "Exercise frequency                   0\n",
       "Frequent food                        0\n",
       "Fast food consumption frequency      0\n",
       "Diet type                            0\n",
       "Food allergies                     252\n",
       "Weight                               0\n",
       "Height                               0\n",
       "Health conditions                  213\n",
       "Weekly spend for food                0\n",
       "University canteen usage             0\n",
       "Preferred Sri Lankan foods           0\n",
       "Diet goal                            0\n",
       "Protein(g)                           0\n",
       "dtype: int64"
      ]
     },
     "execution_count": 88,
     "metadata": {},
     "output_type": "execute_result"
    }
   ],
   "source": [
    "# Check for missing values\n",
    "df.isnull().sum()\n"
   ]
  },
  {
   "cell_type": "code",
   "execution_count": 89,
   "metadata": {
    "id": "val5Yb9N-NH7"
   },
   "outputs": [],
   "source": [
    "#fill with none\n",
    "df[\"Food allergies\"] = df[\"Food allergies\"].fillna(\"None\")\n"
   ]
  },
  {
   "cell_type": "code",
   "execution_count": 90,
   "metadata": {
    "id": "umLwosfE-Sba"
   },
   "outputs": [],
   "source": [
    "#fill with none\n",
    "df[\"Health conditions\"] = df[\"Health conditions\"].fillna(\"None\")\n"
   ]
  },
  {
   "cell_type": "code",
   "execution_count": 91,
   "metadata": {
    "colab": {
     "base_uri": "https://localhost:8080/",
     "height": 648
    },
    "id": "u8b4Amhn-UCj",
    "outputId": "322cf256-3503-4fff-fafe-d5241dfb6a05"
   },
   "outputs": [
    {
     "data": {
      "text/plain": [
       "Age                                0\n",
       "Gender                             0\n",
       "Faculty                            0\n",
       "Year of study                      0\n",
       "Sleep(night)                       0\n",
       "Exercise frequency                 0\n",
       "Frequent food                      0\n",
       "Fast food consumption frequency    0\n",
       "Diet type                          0\n",
       "Food allergies                     0\n",
       "Weight                             0\n",
       "Height                             0\n",
       "Health conditions                  0\n",
       "Weekly spend for food              0\n",
       "University canteen usage           0\n",
       "Preferred Sri Lankan foods         0\n",
       "Diet goal                          0\n",
       "Protein(g)                         0\n",
       "dtype: int64"
      ]
     },
     "execution_count": 91,
     "metadata": {},
     "output_type": "execute_result"
    }
   ],
   "source": [
    "# Check for missing values\n",
    "df.isnull().sum()\n"
   ]
  },
  {
   "cell_type": "code",
   "execution_count": 92,
   "metadata": {
    "colab": {
     "base_uri": "https://localhost:8080/"
    },
    "id": "gfVB9xhP-Xkg",
    "outputId": "f1e844c6-78da-4775-e76a-646f13ce7ad2"
   },
   "outputs": [
    {
     "name": "stdout",
     "output_type": "stream",
     "text": [
      "['24-26' '21-23' '27 and above' '18-20']\n"
     ]
    }
   ],
   "source": [
    "# Check the unique values in the weight column\n",
    "print(df['Age'].unique())\n"
   ]
  },
  {
   "cell_type": "code",
   "execution_count": 93,
   "metadata": {
    "colab": {
     "base_uri": "https://localhost:8080/"
    },
    "id": "fIZD_lR5-kE0",
    "outputId": "70fa0d7a-6b89-44f6-cab3-100e00fdd066"
   },
   "outputs": [
    {
     "name": "stdout",
     "output_type": "stream",
     "text": [
      "0    25.0\n",
      "1    25.0\n",
      "2    25.0\n",
      "3    25.0\n",
      "4    25.0\n",
      "Name: Age, dtype: float64\n"
     ]
    }
   ],
   "source": [
    "# Function to convert age range to the midpoint of the range or handle special cases\n",
    "def convert_age_range(age_range):\n",
    "    # Convert age_range to string to handle potential float values\n",
    "    age_range = str(age_range)\n",
    "    if 'and above' in age_range:\n",
    "        # If the age is '27 and above', we assign it the value 27 or any reasonable value\n",
    "        return 27\n",
    "    elif ',' in age_range:\n",
    "        # Handle cases like '23, 27 and above'\n",
    "        age_parts = age_range.split(',')\n",
    "        # Convert the first part to the integer and handle 'and above' case in the second part\n",
    "        return (int(age_parts[0]) + 27) / 2  # Use 27 as the \"midpoint\" for \"and above\"\n",
    "    elif '-' in age_range:\n",
    "        start, end = age_range.split('-')\n",
    "        return (int(start) + int(end)) / 2\n",
    "    # Handle cases with nan string and other string convertible to int\n",
    "    try:\n",
    "        return int(age_range) # Handle other cases like single age values (e.g., '25')\n",
    "    except ValueError:\n",
    "        return float('nan')  # or any suitable value for missing/invalid ages\n",
    "# Apply the conversion to the 'What is your age?' column\n",
    "df['Age'] = df['Age'].apply(convert_age_range)\n",
    "\n",
    "# Check the transformed data\n",
    "print(df['Age'].head())"
   ]
  },
  {
   "cell_type": "code",
   "execution_count": 94,
   "metadata": {
    "colab": {
     "base_uri": "https://localhost:8080/"
    },
    "id": "53wU8yZXFsOd",
    "outputId": "d5639c8d-a4b4-4194-c568-0142b11648f3"
   },
   "outputs": [
    {
     "name": "stdout",
     "output_type": "stream",
     "text": [
      "['40 - 49 kg' '80 - 89 kg' '50 - 59 kg' '60 - 69 kg' '70 - 79 kg'\n",
      " 'Below 40 kg' '90 - 99 kg' '100 kg or above']\n"
     ]
    }
   ],
   "source": [
    "# Check the unique values in the weight column\n",
    "print(df['Weight'].unique())\n"
   ]
  },
  {
   "cell_type": "code",
   "execution_count": 95,
   "metadata": {
    "colab": {
     "base_uri": "https://localhost:8080/"
    },
    "id": "dN0F47LkGLAn",
    "outputId": "c2161e11-56b6-48f3-e4ca-61756bf7f225"
   },
   "outputs": [
    {
     "name": "stdout",
     "output_type": "stream",
     "text": [
      "0    44.5\n",
      "1    84.5\n",
      "2    54.5\n",
      "3    54.5\n",
      "4    44.5\n",
      "Name: Weight, dtype: float64\n"
     ]
    }
   ],
   "source": [
    "# Function to convert weight values to numerical midpoints or approximate values\n",
    "def convert_weight(weight):\n",
    "    if '-' in weight:  # For ranges like '40 - 49 kg'\n",
    "        start, end = weight.replace(' kg', '').split(' - ')\n",
    "        return (int(start) + int(end)) / 2\n",
    "    elif 'Below' in weight:  # For 'Below 40 kg'\n",
    "        return 35  # Approximate value for \"Below 40 kg\"\n",
    "    elif 'or above' in weight:  # For '100 kg or above'\n",
    "        return 105  # Approximate value for \"100 kg or above\"\n",
    "    else:\n",
    "        return float(weight.replace(' kg', ''))  # Handle direct numeric weights\n",
    "\n",
    "# Apply the function to the 'What is your current weight?' column\n",
    "df['Weight'] = df['Weight'].apply(convert_weight)\n",
    "\n",
    "# Check the transformed weight column\n",
    "print(df['Weight'].head())\n"
   ]
  },
  {
   "cell_type": "code",
   "execution_count": 96,
   "metadata": {
    "colab": {
     "base_uri": "https://localhost:8080/"
    },
    "id": "VJPOcXkXGP_0",
    "outputId": "41e1b359-a8c0-44fa-af0d-cb03d176e958"
   },
   "outputs": [
    {
     "name": "stdout",
     "output_type": "stream",
     "text": [
      "['157cm' '172cm' '144cm' '175cm' '160cm' '152cm' '150cm' '177cm' '163cm'\n",
      " '154cm' '155cm' '149cm' '156cm' '168cm' '161cm' '164 cm' '170cm' '178 cm'\n",
      " '162cm' '175' '176' '160' '158 CM' '153 cm' '170' '156' '174' '165' '164'\n",
      " '161 cm' '152.4' '148' '164cm' '152' '154' '180' '160 cm' '130cm' '170.6'\n",
      " '157' '173' '152 cm ' '154 cm' '166cm' '172' '165cm' '187' '150' '162'\n",
      " '155' '152 cm' '167' '163 cm' '159' '153' '158cm' '169' '168' '151 cm'\n",
      " '178' '151cm' '146' '173 cm' '150 cm' '176cm' '185' '148 cm' '163'\n",
      " '178cm' '146 cm' '167cm' '156cm ' '179' '189' '176 cm' '156 cm' '158'\n",
      " '169.5' '167.64' '174m' '171cm' '177' '149' '140cm' '168 cm' '183' '147']\n"
     ]
    }
   ],
   "source": [
    "# Check unique values in the column\n",
    "print(df['Height'].unique())\n"
   ]
  },
  {
   "cell_type": "code",
   "execution_count": 97,
   "metadata": {
    "colab": {
     "base_uri": "https://localhost:8080/"
    },
    "id": "NZydLtGcGTPx",
    "outputId": "ae9cedc4-18b2-4d12-e44c-a0ddcc9a1275"
   },
   "outputs": [
    {
     "name": "stdout",
     "output_type": "stream",
     "text": [
      "0    157.0\n",
      "1    172.0\n",
      "2    144.0\n",
      "3    175.0\n",
      "4    160.0\n",
      "Name: Height, dtype: float64\n"
     ]
    }
   ],
   "source": [
    "# Function to clean the height column and convert it to numeric (in cm)\n",
    "import re # Import the 're' module\n",
    "\n",
    "def clean_height(height):\n",
    "    # Remove any non-numeric characters (e.g., cm, CM, spaces)\n",
    "    height_cleaned = re.sub(r\"[^\\d.]\", \"\", height)\n",
    "    return float(height_cleaned)  # Convert the remaining numeric value to float\n",
    "\n",
    "# Apply the function to clean the 'What is your height (cm) ?' column\n",
    "df['Height'] = df['Height'].apply(clean_height)\n",
    "\n",
    "# Check the first few rows to verify the transformation\n",
    "print(df['Height'].head())"
   ]
  },
  {
   "cell_type": "code",
   "execution_count": 98,
   "metadata": {
    "colab": {
     "base_uri": "https://localhost:8080/"
    },
    "id": "BRWZHgxTGWpz",
    "outputId": "126a9d6e-589b-414f-cc04-9c94a5cdadbf"
   },
   "outputs": [
    {
     "name": "stdout",
     "output_type": "stream",
     "text": [
      "['More than 3,000 LKR' '2,000 - 3,000 LKR' '1,000 - 2,000 LKR'\n",
      " 'Less than 1,000 LKR']\n"
     ]
    }
   ],
   "source": [
    "# Check unique values in the column\n",
    "print(df['Weekly spend for food'].unique())\n"
   ]
  },
  {
   "cell_type": "code",
   "execution_count": 99,
   "metadata": {
    "colab": {
     "base_uri": "https://localhost:8080/"
    },
    "id": "H-3jS_yQGc6v",
    "outputId": "9ad8ed5c-b01d-409f-9700-5b15e0531aef"
   },
   "outputs": [
    {
     "name": "stdout",
     "output_type": "stream",
     "text": [
      "0    3500.0\n",
      "1    2500.0\n",
      "2    1500.0\n",
      "3    2500.0\n",
      "4    2500.0\n",
      "Name: Weekly spend for food, dtype: float64\n"
     ]
    }
   ],
   "source": [
    "# Function to convert weekly spend ranges into numerical values\n",
    "def convert_weekly_spend(spend):\n",
    "    if '-' in spend:  # For ranges like '1,000 - 2,000 LKR'\n",
    "        start, end = spend.replace(' LKR', '').replace(',', '').split(' - ')\n",
    "        return (int(start) + int(end)) / 2\n",
    "    elif 'More than' in spend:  # For 'More than 3,000 LKR'\n",
    "        return 3500  # Approximate high value\n",
    "    elif 'Less than' in spend:  # For 'Less than 1,000 LKR'\n",
    "        return 750  # Approximate low value\n",
    "    else:\n",
    "        return float(spend.replace(' LKR', '').replace(',', ''))  # Handle direct numeric values\n",
    "\n",
    "# Apply the function to the 'How much money do you spend on food per week?' column\n",
    "df['Weekly spend for food'] = df['Weekly spend for food'].apply(convert_weekly_spend)\n",
    "\n",
    "# Check the transformed column\n",
    "print(df['Weekly spend for food'].head())\n"
   ]
  },
  {
   "cell_type": "code",
   "execution_count": 100,
   "metadata": {
    "colab": {
     "base_uri": "https://localhost:8080/"
    },
    "id": "pM1lsjCYHEJD",
    "outputId": "af07aa77-af78-43fc-f5a7-c26977f417f1"
   },
   "outputs": [
    {
     "name": "stdout",
     "output_type": "stream",
     "text": [
      "['More than 8 hours' '6-8 hours' '5-6 hours' 'Less than 5 hours']\n"
     ]
    }
   ],
   "source": [
    "# Check unique values in the column\n",
    "print(df['Sleep(night)'].unique())\n"
   ]
  },
  {
   "cell_type": "code",
   "execution_count": 101,
   "metadata": {
    "colab": {
     "base_uri": "https://localhost:8080/",
     "height": 677
    },
    "id": "6wucAH1Nk39m",
    "outputId": "5f02369e-b276-44d6-ffe0-9052fcc03cd6"
   },
   "outputs": [
    {
     "data": {
      "text/html": [
       "<div>\n",
       "<style scoped>\n",
       "    .dataframe tbody tr th:only-of-type {\n",
       "        vertical-align: middle;\n",
       "    }\n",
       "\n",
       "    .dataframe tbody tr th {\n",
       "        vertical-align: top;\n",
       "    }\n",
       "\n",
       "    .dataframe thead th {\n",
       "        text-align: right;\n",
       "    }\n",
       "</style>\n",
       "<table border=\"1\" class=\"dataframe\">\n",
       "  <thead>\n",
       "    <tr style=\"text-align: right;\">\n",
       "      <th></th>\n",
       "      <th>Age</th>\n",
       "      <th>Gender</th>\n",
       "      <th>Faculty</th>\n",
       "      <th>Year of study</th>\n",
       "      <th>Sleep(night)</th>\n",
       "      <th>Exercise frequency</th>\n",
       "      <th>Frequent food</th>\n",
       "      <th>Fast food consumption frequency</th>\n",
       "      <th>Diet type</th>\n",
       "      <th>Food allergies</th>\n",
       "      <th>Weight</th>\n",
       "      <th>Height</th>\n",
       "      <th>Health conditions</th>\n",
       "      <th>Weekly spend for food</th>\n",
       "      <th>University canteen usage</th>\n",
       "      <th>Preferred Sri Lankan foods</th>\n",
       "      <th>Diet goal</th>\n",
       "      <th>Protein(g)</th>\n",
       "    </tr>\n",
       "  </thead>\n",
       "  <tbody>\n",
       "    <tr>\n",
       "      <th>0</th>\n",
       "      <td>25.0</td>\n",
       "      <td>Female</td>\n",
       "      <td>FAS</td>\n",
       "      <td>4th year</td>\n",
       "      <td>More than 8 hours</td>\n",
       "      <td>Never</td>\n",
       "      <td>Traditional Sri Lankan food, Processed foods (...</td>\n",
       "      <td>2-3 times a week</td>\n",
       "      <td>No specific diet</td>\n",
       "      <td>Dryfish</td>\n",
       "      <td>44.5</td>\n",
       "      <td>157.0</td>\n",
       "      <td>Gastritis</td>\n",
       "      <td>3500.0</td>\n",
       "      <td>Daily</td>\n",
       "      <td>Rice and curry, Hoppers</td>\n",
       "      <td>Better health</td>\n",
       "      <td>57.6</td>\n",
       "    </tr>\n",
       "    <tr>\n",
       "      <th>1</th>\n",
       "      <td>25.0</td>\n",
       "      <td>Male</td>\n",
       "      <td>FAS</td>\n",
       "      <td>4th year</td>\n",
       "      <td>6-8 hours</td>\n",
       "      <td>1-2 times per week</td>\n",
       "      <td>Traditional Sri Lankan food</td>\n",
       "      <td>Never</td>\n",
       "      <td>No specific diet</td>\n",
       "      <td>None</td>\n",
       "      <td>84.5</td>\n",
       "      <td>172.0</td>\n",
       "      <td>High cholesterol</td>\n",
       "      <td>2500.0</td>\n",
       "      <td>Daily</td>\n",
       "      <td>Rice and curry, String hoppers</td>\n",
       "      <td>Manage health conditions</td>\n",
       "      <td>132.0</td>\n",
       "    </tr>\n",
       "    <tr>\n",
       "      <th>2</th>\n",
       "      <td>25.0</td>\n",
       "      <td>Female</td>\n",
       "      <td>FLFN</td>\n",
       "      <td>4th year</td>\n",
       "      <td>6-8 hours</td>\n",
       "      <td>Never</td>\n",
       "      <td>Traditional Sri Lankan food, Fast food (e.g., ...</td>\n",
       "      <td>2-3 times a week</td>\n",
       "      <td>No specific diet</td>\n",
       "      <td>None</td>\n",
       "      <td>54.5</td>\n",
       "      <td>144.0</td>\n",
       "      <td>Gastritis</td>\n",
       "      <td>1500.0</td>\n",
       "      <td>Rarely/Never</td>\n",
       "      <td>Rice and curry, Hoppers, Roti</td>\n",
       "      <td>Better health</td>\n",
       "      <td>72.0</td>\n",
       "    </tr>\n",
       "    <tr>\n",
       "      <th>3</th>\n",
       "      <td>25.0</td>\n",
       "      <td>Male</td>\n",
       "      <td>FLFN</td>\n",
       "      <td>4th year</td>\n",
       "      <td>More than 8 hours</td>\n",
       "      <td>1-2 times per week</td>\n",
       "      <td>Traditional Sri Lankan food, Fast food (e.g., ...</td>\n",
       "      <td>2-3 times a week</td>\n",
       "      <td>No specific diet</td>\n",
       "      <td>None</td>\n",
       "      <td>54.5</td>\n",
       "      <td>175.0</td>\n",
       "      <td>None</td>\n",
       "      <td>2500.0</td>\n",
       "      <td>Daily</td>\n",
       "      <td>Rice and curry, String hoppers, Kottu, Hoppers...</td>\n",
       "      <td>Better health</td>\n",
       "      <td>82.5</td>\n",
       "    </tr>\n",
       "    <tr>\n",
       "      <th>4</th>\n",
       "      <td>25.0</td>\n",
       "      <td>Female</td>\n",
       "      <td>FLFN</td>\n",
       "      <td>4th year</td>\n",
       "      <td>6-8 hours</td>\n",
       "      <td>Never</td>\n",
       "      <td>Traditional Sri Lankan food, Fruits and vegeta...</td>\n",
       "      <td>Once a week</td>\n",
       "      <td>No specific diet</td>\n",
       "      <td>None</td>\n",
       "      <td>44.5</td>\n",
       "      <td>160.0</td>\n",
       "      <td>None</td>\n",
       "      <td>2500.0</td>\n",
       "      <td>Daily</td>\n",
       "      <td>Rice and curry, Hoppers, Roti</td>\n",
       "      <td>Improve energy levels</td>\n",
       "      <td>57.6</td>\n",
       "    </tr>\n",
       "  </tbody>\n",
       "</table>\n",
       "</div>"
      ],
      "text/plain": [
       "    Age  Gender Faculty Year of study       Sleep(night)  Exercise frequency  \\\n",
       "0  25.0  Female     FAS      4th year  More than 8 hours               Never   \n",
       "1  25.0    Male     FAS      4th year          6-8 hours  1-2 times per week   \n",
       "2  25.0  Female    FLFN      4th year          6-8 hours               Never   \n",
       "3  25.0    Male    FLFN      4th year  More than 8 hours  1-2 times per week   \n",
       "4  25.0  Female    FLFN      4th year          6-8 hours               Never   \n",
       "\n",
       "                                       Frequent food  \\\n",
       "0  Traditional Sri Lankan food, Processed foods (...   \n",
       "1                        Traditional Sri Lankan food   \n",
       "2  Traditional Sri Lankan food, Fast food (e.g., ...   \n",
       "3  Traditional Sri Lankan food, Fast food (e.g., ...   \n",
       "4  Traditional Sri Lankan food, Fruits and vegeta...   \n",
       "\n",
       "  Fast food consumption frequency         Diet type Food allergies  Weight  \\\n",
       "0                2-3 times a week  No specific diet        Dryfish    44.5   \n",
       "1                           Never  No specific diet           None    84.5   \n",
       "2                2-3 times a week  No specific diet           None    54.5   \n",
       "3                2-3 times a week  No specific diet           None    54.5   \n",
       "4                     Once a week  No specific diet           None    44.5   \n",
       "\n",
       "   Height Health conditions  Weekly spend for food University canteen usage  \\\n",
       "0   157.0         Gastritis                 3500.0                    Daily   \n",
       "1   172.0  High cholesterol                 2500.0                    Daily   \n",
       "2   144.0         Gastritis                 1500.0             Rarely/Never   \n",
       "3   175.0              None                 2500.0                    Daily   \n",
       "4   160.0              None                 2500.0                    Daily   \n",
       "\n",
       "                          Preferred Sri Lankan foods  \\\n",
       "0                            Rice and curry, Hoppers   \n",
       "1                     Rice and curry, String hoppers   \n",
       "2                      Rice and curry, Hoppers, Roti   \n",
       "3  Rice and curry, String hoppers, Kottu, Hoppers...   \n",
       "4                      Rice and curry, Hoppers, Roti   \n",
       "\n",
       "                  Diet goal  Protein(g)  \n",
       "0             Better health        57.6  \n",
       "1  Manage health conditions       132.0  \n",
       "2             Better health        72.0  \n",
       "3             Better health        82.5  \n",
       "4     Improve energy levels        57.6  "
      ]
     },
     "execution_count": 101,
     "metadata": {},
     "output_type": "execute_result"
    }
   ],
   "source": [
    "df.head()"
   ]
  },
  {
   "cell_type": "code",
   "execution_count": 102,
   "metadata": {
    "colab": {
     "base_uri": "https://localhost:8080/"
    },
    "id": "NQZ6LuP1lPVM",
    "outputId": "b880ca4d-0178-4b7d-aaa1-25f799b10e4f"
   },
   "outputs": [
    {
     "name": "stdout",
     "output_type": "stream",
     "text": [
      "   Sleep(night)\n",
      "0           9.0\n",
      "1           7.0\n",
      "2           5.5\n",
      "3           4.0\n"
     ]
    }
   ],
   "source": [
    "\n",
    "# Function to convert sleep categories into numerical values\n",
    "def convert_sleep(sleep):\n",
    "    if 'More than' in sleep:  # For 'More than 8 hours'\n",
    "        return 9  # Assigning a value slightly higher than 8\n",
    "    elif 'Less than' in sleep:  # For 'Less than 5 hours'\n",
    "        return 4  # Assigning a value slightly lower than 5\n",
    "    elif '-' in sleep:  # For ranges like '6-8 hours' and '5-6 hours'\n",
    "        # Use split('-') to handle both cases like '6-8 hours' and '5-6 hours'\n",
    "        start, end = sleep.split('-')[:2]  # Split by '-' and take only the first two elements\n",
    "        # Remove 'hours' text and strip any extra spaces\n",
    "        start = int(start.replace(' hours', '').strip())\n",
    "        end = int(end.replace(' hours', '').strip())\n",
    "        return (start + end) / 2  # Take the average of the range\n",
    "    else:\n",
    "        # Handle cases like '7 hours' or any other single numeric value\n",
    "        return int(sleep.replace(' hours', '').strip())\n",
    "\n",
    "# Sample DataFrame with sleep data\n",
    "data = pd.DataFrame({\n",
    "    'Sleep(night)': ['More than 8 hours', '6-8 hours', '5-6 hours', 'Less than 5 hours']\n",
    "})\n",
    "\n",
    "# Apply the convert_sleep function to the 'Sleep(night)' column\n",
    "data['Sleep(night)'] = data['Sleep(night)'].apply(convert_sleep)\n",
    "\n",
    "# Print the DataFrame with converted sleep values\n",
    "print(data)\n"
   ]
  },
  {
   "cell_type": "code",
   "execution_count": 103,
   "metadata": {
    "colab": {
     "base_uri": "https://localhost:8080/",
     "height": 677
    },
    "id": "jWumkxUFljfV",
    "outputId": "5d6463be-fb68-4f4d-cf6a-a8a17b624502"
   },
   "outputs": [
    {
     "data": {
      "text/html": [
       "<div>\n",
       "<style scoped>\n",
       "    .dataframe tbody tr th:only-of-type {\n",
       "        vertical-align: middle;\n",
       "    }\n",
       "\n",
       "    .dataframe tbody tr th {\n",
       "        vertical-align: top;\n",
       "    }\n",
       "\n",
       "    .dataframe thead th {\n",
       "        text-align: right;\n",
       "    }\n",
       "</style>\n",
       "<table border=\"1\" class=\"dataframe\">\n",
       "  <thead>\n",
       "    <tr style=\"text-align: right;\">\n",
       "      <th></th>\n",
       "      <th>Age</th>\n",
       "      <th>Gender</th>\n",
       "      <th>Faculty</th>\n",
       "      <th>Year of study</th>\n",
       "      <th>Sleep(night)</th>\n",
       "      <th>Exercise frequency</th>\n",
       "      <th>Frequent food</th>\n",
       "      <th>Fast food consumption frequency</th>\n",
       "      <th>Diet type</th>\n",
       "      <th>Food allergies</th>\n",
       "      <th>Weight</th>\n",
       "      <th>Height</th>\n",
       "      <th>Health conditions</th>\n",
       "      <th>Weekly spend for food</th>\n",
       "      <th>University canteen usage</th>\n",
       "      <th>Preferred Sri Lankan foods</th>\n",
       "      <th>Diet goal</th>\n",
       "      <th>Protein(g)</th>\n",
       "    </tr>\n",
       "  </thead>\n",
       "  <tbody>\n",
       "    <tr>\n",
       "      <th>0</th>\n",
       "      <td>25.0</td>\n",
       "      <td>Female</td>\n",
       "      <td>FAS</td>\n",
       "      <td>4th year</td>\n",
       "      <td>More than 8 hours</td>\n",
       "      <td>Never</td>\n",
       "      <td>Traditional Sri Lankan food, Processed foods (...</td>\n",
       "      <td>2-3 times a week</td>\n",
       "      <td>No specific diet</td>\n",
       "      <td>Dryfish</td>\n",
       "      <td>44.5</td>\n",
       "      <td>157.0</td>\n",
       "      <td>Gastritis</td>\n",
       "      <td>3500.0</td>\n",
       "      <td>Daily</td>\n",
       "      <td>Rice and curry, Hoppers</td>\n",
       "      <td>Better health</td>\n",
       "      <td>57.6</td>\n",
       "    </tr>\n",
       "    <tr>\n",
       "      <th>1</th>\n",
       "      <td>25.0</td>\n",
       "      <td>Male</td>\n",
       "      <td>FAS</td>\n",
       "      <td>4th year</td>\n",
       "      <td>6-8 hours</td>\n",
       "      <td>1-2 times per week</td>\n",
       "      <td>Traditional Sri Lankan food</td>\n",
       "      <td>Never</td>\n",
       "      <td>No specific diet</td>\n",
       "      <td>None</td>\n",
       "      <td>84.5</td>\n",
       "      <td>172.0</td>\n",
       "      <td>High cholesterol</td>\n",
       "      <td>2500.0</td>\n",
       "      <td>Daily</td>\n",
       "      <td>Rice and curry, String hoppers</td>\n",
       "      <td>Manage health conditions</td>\n",
       "      <td>132.0</td>\n",
       "    </tr>\n",
       "    <tr>\n",
       "      <th>2</th>\n",
       "      <td>25.0</td>\n",
       "      <td>Female</td>\n",
       "      <td>FLFN</td>\n",
       "      <td>4th year</td>\n",
       "      <td>6-8 hours</td>\n",
       "      <td>Never</td>\n",
       "      <td>Traditional Sri Lankan food, Fast food (e.g., ...</td>\n",
       "      <td>2-3 times a week</td>\n",
       "      <td>No specific diet</td>\n",
       "      <td>None</td>\n",
       "      <td>54.5</td>\n",
       "      <td>144.0</td>\n",
       "      <td>Gastritis</td>\n",
       "      <td>1500.0</td>\n",
       "      <td>Rarely/Never</td>\n",
       "      <td>Rice and curry, Hoppers, Roti</td>\n",
       "      <td>Better health</td>\n",
       "      <td>72.0</td>\n",
       "    </tr>\n",
       "    <tr>\n",
       "      <th>3</th>\n",
       "      <td>25.0</td>\n",
       "      <td>Male</td>\n",
       "      <td>FLFN</td>\n",
       "      <td>4th year</td>\n",
       "      <td>More than 8 hours</td>\n",
       "      <td>1-2 times per week</td>\n",
       "      <td>Traditional Sri Lankan food, Fast food (e.g., ...</td>\n",
       "      <td>2-3 times a week</td>\n",
       "      <td>No specific diet</td>\n",
       "      <td>None</td>\n",
       "      <td>54.5</td>\n",
       "      <td>175.0</td>\n",
       "      <td>None</td>\n",
       "      <td>2500.0</td>\n",
       "      <td>Daily</td>\n",
       "      <td>Rice and curry, String hoppers, Kottu, Hoppers...</td>\n",
       "      <td>Better health</td>\n",
       "      <td>82.5</td>\n",
       "    </tr>\n",
       "    <tr>\n",
       "      <th>4</th>\n",
       "      <td>25.0</td>\n",
       "      <td>Female</td>\n",
       "      <td>FLFN</td>\n",
       "      <td>4th year</td>\n",
       "      <td>6-8 hours</td>\n",
       "      <td>Never</td>\n",
       "      <td>Traditional Sri Lankan food, Fruits and vegeta...</td>\n",
       "      <td>Once a week</td>\n",
       "      <td>No specific diet</td>\n",
       "      <td>None</td>\n",
       "      <td>44.5</td>\n",
       "      <td>160.0</td>\n",
       "      <td>None</td>\n",
       "      <td>2500.0</td>\n",
       "      <td>Daily</td>\n",
       "      <td>Rice and curry, Hoppers, Roti</td>\n",
       "      <td>Improve energy levels</td>\n",
       "      <td>57.6</td>\n",
       "    </tr>\n",
       "  </tbody>\n",
       "</table>\n",
       "</div>"
      ],
      "text/plain": [
       "    Age  Gender Faculty Year of study       Sleep(night)  Exercise frequency  \\\n",
       "0  25.0  Female     FAS      4th year  More than 8 hours               Never   \n",
       "1  25.0    Male     FAS      4th year          6-8 hours  1-2 times per week   \n",
       "2  25.0  Female    FLFN      4th year          6-8 hours               Never   \n",
       "3  25.0    Male    FLFN      4th year  More than 8 hours  1-2 times per week   \n",
       "4  25.0  Female    FLFN      4th year          6-8 hours               Never   \n",
       "\n",
       "                                       Frequent food  \\\n",
       "0  Traditional Sri Lankan food, Processed foods (...   \n",
       "1                        Traditional Sri Lankan food   \n",
       "2  Traditional Sri Lankan food, Fast food (e.g., ...   \n",
       "3  Traditional Sri Lankan food, Fast food (e.g., ...   \n",
       "4  Traditional Sri Lankan food, Fruits and vegeta...   \n",
       "\n",
       "  Fast food consumption frequency         Diet type Food allergies  Weight  \\\n",
       "0                2-3 times a week  No specific diet        Dryfish    44.5   \n",
       "1                           Never  No specific diet           None    84.5   \n",
       "2                2-3 times a week  No specific diet           None    54.5   \n",
       "3                2-3 times a week  No specific diet           None    54.5   \n",
       "4                     Once a week  No specific diet           None    44.5   \n",
       "\n",
       "   Height Health conditions  Weekly spend for food University canteen usage  \\\n",
       "0   157.0         Gastritis                 3500.0                    Daily   \n",
       "1   172.0  High cholesterol                 2500.0                    Daily   \n",
       "2   144.0         Gastritis                 1500.0             Rarely/Never   \n",
       "3   175.0              None                 2500.0                    Daily   \n",
       "4   160.0              None                 2500.0                    Daily   \n",
       "\n",
       "                          Preferred Sri Lankan foods  \\\n",
       "0                            Rice and curry, Hoppers   \n",
       "1                     Rice and curry, String hoppers   \n",
       "2                      Rice and curry, Hoppers, Roti   \n",
       "3  Rice and curry, String hoppers, Kottu, Hoppers...   \n",
       "4                      Rice and curry, Hoppers, Roti   \n",
       "\n",
       "                  Diet goal  Protein(g)  \n",
       "0             Better health        57.6  \n",
       "1  Manage health conditions       132.0  \n",
       "2             Better health        72.0  \n",
       "3             Better health        82.5  \n",
       "4     Improve energy levels        57.6  "
      ]
     },
     "execution_count": 103,
     "metadata": {},
     "output_type": "execute_result"
    }
   ],
   "source": [
    "df.head()"
   ]
  },
  {
   "cell_type": "code",
   "execution_count": 104,
   "metadata": {
    "colab": {
     "base_uri": "https://localhost:8080/"
    },
    "id": "pNwi6YgMllqR",
    "outputId": "4469de06-9e57-4ab0-8dc0-aae2e0b79a47"
   },
   "outputs": [
    {
     "name": "stdout",
     "output_type": "stream",
     "text": [
      "   Sleep(night)\n",
      "0           9.0\n",
      "1           7.0\n",
      "2           7.0\n",
      "3           9.0\n",
      "4           7.0\n"
     ]
    }
   ],
   "source": [
    "# Function to convert sleep categories into numerical values\n",
    "def convert_sleep(sleep):\n",
    "    if 'More than' in sleep:  # For 'More than 8 hours'\n",
    "        return 9  # Assigning a value slightly higher than 8\n",
    "    elif 'Less than' in sleep:  # For 'Less than 5 hours'\n",
    "        return 4  # Assigning a value slightly lower than 5\n",
    "    elif '-' in sleep:  # For ranges like '6-8 hours' and '5-6 hours'\n",
    "        # Use split('-') to handle both cases like '6-8 hours' and '5-6 hours'\n",
    "        start, end = sleep.split('-')[:2]  # Split by '-' and take only the first two elements\n",
    "        # Remove 'hours' text and strip any extra spaces\n",
    "        start = int(start.strip())\n",
    "        end = int(end.replace(' hours', '').strip())\n",
    "        return (start + end) / 2  # Take the average of the range\n",
    "    else:\n",
    "        # Handle cases like '7 hours' or any other single numeric value\n",
    "        return int(sleep.replace(' hours', '').strip())\n",
    "\n",
    "# Apply the convert_sleep function to the 'Sleep(night)' column\n",
    "df['Sleep(night)'] = df['Sleep(night)'].apply(convert_sleep)\n",
    "\n",
    "# Verify the transformed data\n",
    "print(df[['Sleep(night)']].head())  # Display the first few rows of the transformed column\n"
   ]
  },
  {
   "cell_type": "code",
   "execution_count": 105,
   "metadata": {
    "colab": {
     "base_uri": "https://localhost:8080/"
    },
    "id": "ac2Os4TnmWdg",
    "outputId": "828c7f4e-0340-46ee-e4de-0f7d5bf1e3e4"
   },
   "outputs": [
    {
     "name": "stdout",
     "output_type": "stream",
     "text": [
      "    Age  Sleep(night)    Height    Weight  Weekly spend for food  Protein(g)\n",
      "0  0.75           1.0  0.457627  0.135714               1.000000    0.000000\n",
      "1  0.75           0.6  0.711864  0.707143               0.636364    0.688889\n",
      "2  0.75           0.6  0.237288  0.278571               0.272727    0.133333\n",
      "3  0.75           1.0  0.762712  0.278571               0.636364    0.230556\n",
      "4  0.75           0.6  0.508475  0.135714               0.636364    0.000000\n"
     ]
    }
   ],
   "source": [
    "from sklearn.preprocessing import StandardScaler, MinMaxScaler\n",
    "\n",
    "# Define the numerical columns\n",
    "numerical_columns = [\n",
    "    'Age',\n",
    "    'Sleep(night)',\n",
    "    'Height',\n",
    "    'Weight',\n",
    "    'Weekly spend for food',\n",
    "    'Protein(g)'\n",
    "]\n",
    "\n",
    "# Initialize the scalers\n",
    "scaler = StandardScaler()\n",
    "normalizer = MinMaxScaler()\n",
    "\n",
    "# Apply scaling (standardization) to the numerical columns\n",
    "df[numerical_columns] = scaler.fit_transform(df[numerical_columns])\n",
    "\n",
    "# Apply normalization (MinMaxScaler) to the scaled columns (between 0 and 1)\n",
    "df[numerical_columns] = normalizer.fit_transform(df[numerical_columns])\n",
    "\n",
    "# Check the transformed data\n",
    "print(df[numerical_columns].head())\n"
   ]
  },
  {
   "cell_type": "code",
   "execution_count": 106,
   "metadata": {
    "colab": {
     "base_uri": "https://localhost:8080/"
    },
    "id": "S1eWjTxJmoJZ",
    "outputId": "a8a1ab8b-bb9d-463d-c5df-764da7f579ad"
   },
   "outputs": [
    {
     "name": "stdout",
     "output_type": "stream",
     "text": [
      "    Age  Gender  Faculty  Year of study  Sleep(night)  Exercise frequency  \\\n",
      "0  0.75       0        2              3           1.0                   3   \n",
      "1  0.75       1        2              3           0.6                   0   \n",
      "2  0.75       0        3              3           0.6                   3   \n",
      "3  0.75       1        3              3           1.0                   0   \n",
      "4  0.75       0        3              3           0.6                   3   \n",
      "\n",
      "   Frequent food  Fast food consumption frequency  Diet type  Food allergies  \\\n",
      "0            192                                0          1               5   \n",
      "1            157                                2          1              13   \n",
      "2            163                                0          1              13   \n",
      "3            160                                0          1              13   \n",
      "4            180                                3          1              13   \n",
      "\n",
      "     Weight    Height  Health conditions  Weekly spend for food  \\\n",
      "0  0.135714  0.457627                  4               1.000000   \n",
      "1  0.707143  0.711864                  6               0.636364   \n",
      "2  0.278571  0.237288                  4               0.272727   \n",
      "3  0.278571  0.762712                  8               0.636364   \n",
      "4  0.135714  0.508475                  8               0.636364   \n",
      "\n",
      "   University canteen usage  Preferred Sri Lankan foods  Diet goal  Protein(g)  \n",
      "0                         1                         138          0    0.000000  \n",
      "1                         1                         176          3    0.688889  \n",
      "2                         4                         143          0    0.133333  \n",
      "3                         1                         186          0    0.230556  \n",
      "4                         1                         143          2    0.000000  \n",
      "Encoding for Gender: {'Female': 0, 'Male': 1}\n",
      "Encoding for Faculty: {'BSF': 0, 'FAPM': 1, 'FAS': 2, 'FLFN': 3, 'FOM': 4, 'FOT': 5}\n",
      "Encoding for Year of study: {'1st year': 0, '2nd year': 1, '3rd year': 2, '4th year': 3, 'Postgraduate': 4}\n",
      "Encoding for Exercise frequency: {'1-2 times per week': 0, '3-4 times per week': 1, 'Daily': 2, 'Never': 3, 'Rarely': 4}\n",
      "Encoding for Frequent food: {'Fast food': 0, 'Fast food (e.g., burgers, pizza)': 1, 'Fast food (e.g., burgers, pizza), Processed foods (e.g., instant noodles, frozen foods)': 2, 'Fast food (e.g., burgers, pizza), Processed foods (e.g., instant noodles, frozen foods), Fruits and vegetables, ': 3, 'Fast food, Fruits and vegetables': 4, 'Fast food, Fruits and vegetables, Rice and curry': 5, 'Fast food, Fruits and vegetables, Rice and curry, Processed foods': 6, 'Fast food, Fruits and vegetables, Rice and curry, Traditional Sri Lankan food, Processed foods': 7, 'Fast food, Fruits and vegetables, Traditional Sri Lankan food': 8, 'Fast food, Fruits and vegetables, Traditional Sri Lankan food, Processed foods, Rice and curry': 9, 'Fast food, Fruits and vegetables, Traditional Sri Lankan food, Rice and curry': 10, 'Fast food, Processed foods': 11, 'Fast food, Processed foods, Fruits and vegetables': 12, 'Fast food, Processed foods, Fruits and vegetables, Traditional Sri Lankan food': 13, 'Fast food, Processed foods, Fruits and vegetables, Traditional Sri Lankan food, Rice and curry': 14, 'Fast food, Processed foods, Rice and curry': 15, 'Fast food, Processed foods, Rice and curry, Fruits and vegetables': 16, 'Fast food, Processed foods, Rice and curry, Traditional Sri Lankan food, Fruits and vegetables': 17, 'Fast food, Processed foods, Traditional Sri Lankan food': 18, 'Fast food, Processed foods, Traditional Sri Lankan food, Fruits and vegetables': 19, 'Fast food, Processed foods, Traditional Sri Lankan food, Rice and curry': 20, 'Fast food, Rice and curry': 21, 'Fast food, Rice and curry, Fruits and vegetables': 22, 'Fast food, Rice and curry, Fruits and vegetables, Processed foods, Traditional Sri Lankan food': 23, 'Fast food, Rice and curry, Fruits and vegetables, Traditional Sri Lankan food, Processed foods': 24, 'Fast food, Rice and curry, Processed foods': 25, 'Fast food, Rice and curry, Processed foods, Traditional Sri Lankan food': 26, 'Fast food, Rice and curry, Traditional Sri Lankan food': 27, 'Fast food, Rice and curry, Traditional Sri Lankan food, Fruits and vegetables': 28, 'Fast food, Rice and curry, Traditional Sri Lankan food, Processed foods, Fruits and vegetables': 29, 'Fast food, Traditional Sri Lankan food': 30, 'Fast food, Traditional Sri Lankan food, Fruits and vegetables': 31, 'Fast food, Traditional Sri Lankan food, Fruits and vegetables, Rice and curry': 32, 'Fast food, Traditional Sri Lankan food, Fruits and vegetables, Rice and curry, Processed foods': 33, 'Fast food, Traditional Sri Lankan food, Processed foods': 34, 'Fast food, Traditional Sri Lankan food, Processed foods, Fruits and vegetables, Rice and curry': 35, 'Fast food, Traditional Sri Lankan food, Processed foods, Rice and curry, Fruits and vegetables': 36, 'Fast food, Traditional Sri Lankan food, Rice and curry, Fruits and vegetables': 37, 'Fast food, Traditional Sri Lankan food, Rice and curry, Fruits and vegetables, Processed foods': 38, 'Fast food, Traditional Sri Lankan food, Rice and curry, Processed foods': 39, 'Fast food, Traditional Sri Lankan food, Rice and curry, Processed foods, Fruits and vegetables': 40, 'Fried rice , kottu': 41, 'Fruits and vegetables': 42, 'Fruits and vegetables, Chocolates': 43, 'Fruits and vegetables, Fast food': 44, 'Fruits and vegetables, Fast food, Processed foods': 45, 'Fruits and vegetables, Fast food, Processed foods, Rice and curry, Traditional Sri Lankan food': 46, 'Fruits and vegetables, Fast food, Processed foods, Traditional Sri Lankan food': 47, 'Fruits and vegetables, Fast food, Rice and curry': 48, 'Fruits and vegetables, Fast food, Rice and curry, Processed foods': 49, 'Fruits and vegetables, Fast food, Rice and curry, Traditional Sri Lankan food': 50, 'Fruits and vegetables, Fast food, Rice and curry, Traditional Sri Lankan food, Processed foods': 51, 'Fruits and vegetables, Fast food, Traditional Sri Lankan food': 52, 'Fruits and vegetables, Fast food, Traditional Sri Lankan food, Processed foods': 53, 'Fruits and vegetables, Fast food, Traditional Sri Lankan food, Processed foods, Rice and curry': 54, 'Fruits and vegetables, Processed foods': 55, 'Fruits and vegetables, Processed foods, Fast food, Rice and curry, Traditional Sri Lankan food': 56, 'Fruits and vegetables, Processed foods, Fast food, Traditional Sri Lankan food, Rice and curry': 57, 'Fruits and vegetables, Processed foods, Rice and curry': 58, 'Fruits and vegetables, Processed foods, Rice and curry, Traditional Sri Lankan food': 59, 'Fruits and vegetables, Processed foods, Traditional Sri Lankan food': 60, 'Fruits and vegetables, Processed foods, Traditional Sri Lankan food, Fast food, Rice and curry': 61, 'Fruits and vegetables, Processed foods, Traditional Sri Lankan food, Rice and curry': 62, 'Fruits and vegetables, Rice and curry': 63, 'Fruits and vegetables, Rice and curry, Fast food, Processed foods': 64, 'Fruits and vegetables, Rice and curry, Fast food, Traditional Sri Lankan food, Processed foods': 65, 'Fruits and vegetables, Rice and curry, Processed foods, Fast food, Traditional Sri Lankan food': 66, 'Fruits and vegetables, Rice and curry, Traditional Sri Lankan food': 67, 'Fruits and vegetables, Rice and curry, Traditional Sri Lankan food, Fast food': 68, 'Fruits and vegetables, Rice and curry, Traditional Sri Lankan food, Processed foods, Fast food': 69, 'Fruits and vegetables, Traditional Sri Lankan food': 70, 'Fruits and vegetables, Traditional Sri Lankan food, Fast food': 71, 'Fruits and vegetables, Traditional Sri Lankan food, Fast food, Processed foods': 72, 'Fruits and vegetables, Traditional Sri Lankan food, Fast food, Processed foods, Rice and curry': 73, 'Fruits and vegetables, Traditional Sri Lankan food, Fast food, Rice and curry': 74, 'Fruits and vegetables, Traditional Sri Lankan food, Fast food, Rice and curry, Processed foods': 75, 'Fruits and vegetables, Traditional Sri Lankan food, Processed foods': 76, 'Fruits and vegetables, Traditional Sri Lankan food, Processed foods, Fast food, Rice and curry': 77, 'Fruits and vegetables, Traditional Sri Lankan food, Rice and curry': 78, 'Fruits and vegetables, Traditional Sri Lankan food, Rice and curry, Fast food': 79, 'Fruits and vegetables, Traditional Sri Lankan food, Rice and curry, Fast food, Processed foods': 80, 'Fruits and vegetables, Traditional Sri Lankan food, Rice and curry, Processed foods': 81, 'Processed foods': 82, 'Processed foods (e.g., instant noodles, frozen foods)': 83, 'Processed foods (e.g., instant noodles, frozen foods), Fruits and vegetables': 84, 'Processed foods, Fast food': 85, 'Processed foods, Fast food, Fruits and vegetables': 86, 'Processed foods, Fast food, Fruits and vegetables, Traditional Sri Lankan food, Rice and curry': 87, 'Processed foods, Fast food, Rice and curry': 88, 'Processed foods, Fast food, Rice and curry, Fruits and vegetables, Traditional Sri Lankan food': 89, 'Processed foods, Fast food, Rice and curry, Traditional Sri Lankan food, Fruits and vegetables': 90, 'Processed foods, Fast food, Traditional Sri Lankan food': 91, 'Processed foods, Fruits and vegetables': 92, 'Processed foods, Fruits and vegetables, Fast food': 93, 'Processed foods, Fruits and vegetables, Fast food, Rice and curry, Traditional Sri Lankan food': 94, 'Processed foods, Fruits and vegetables, Rice and curry': 95, 'Processed foods, Fruits and vegetables, Rice and curry, Fast food, Traditional Sri Lankan food': 96, 'Processed foods, Fruits and vegetables, Rice and curry, Traditional Sri Lankan food': 97, 'Processed foods, Fruits and vegetables, Rice and curry, Traditional Sri Lankan food, Fast food': 98, 'Processed foods, Fruits and vegetables, Traditional Sri Lankan food': 99, 'Processed foods, Fruits and vegetables, Traditional Sri Lankan food, Rice and curry, Fast food': 100, 'Processed foods, Rice and curry': 101, 'Processed foods, Rice and curry, Fast food': 102, 'Processed foods, Rice and curry, Fruits and vegetables': 103, 'Processed foods, Rice and curry, Fruits and vegetables, Fast food': 104, 'Processed foods, Rice and curry, Traditional Sri Lankan food, Fast food': 105, 'Processed foods, Rice and curry, Traditional Sri Lankan food, Fast food, Fruits and vegetables': 106, 'Processed foods, Traditional Sri Lankan food': 107, 'Processed foods, Traditional Sri Lankan food, Fast food': 108, 'Processed foods, Traditional Sri Lankan food, Fast food, Fruits and vegetables': 109, 'Processed foods, Traditional Sri Lankan food, Fast food, Rice and curry': 110, 'Processed foods, Traditional Sri Lankan food, Fruits and vegetables': 111, 'Processed foods, Traditional Sri Lankan food, Fruits and vegetables, Fast food, Rice and curry': 112, 'Processed foods, Traditional Sri Lankan food, Fruits and vegetables, Rice and curry': 113, 'Processed foods, Traditional Sri Lankan food, Rice and curry': 114, 'Processed foods, Traditional Sri Lankan food, Rice and curry, Fast food, Fruits and vegetables': 115, 'Processed foods, Traditional Sri Lankan food, Rice and curry, Fruits and vegetables': 116, 'Rice and curry': 117, 'Rice and curry, Fast food': 118, 'Rice and curry, Fast food, Fruits and vegetables': 119, 'Rice and curry, Fast food, Processed foods': 120, 'Rice and curry, Fast food, Processed foods, Fruits and vegetables, Traditional Sri Lankan food': 121, 'Rice and curry, Fast food, Processed foods, Traditional Sri Lankan food, Fruits and vegetables': 122, 'Rice and curry, Fast food, Traditional Sri Lankan food': 123, 'Rice and curry, Fast food, Traditional Sri Lankan food, Fruits and vegetables, Processed foods': 124, 'Rice and curry, Fast food, Traditional Sri Lankan food, Processed foods, Fruits and vegetables': 125, 'Rice and curry, Fruits and vegetables': 126, 'Rice and curry, Fruits and vegetables, Fast food': 127, 'Rice and curry, Fruits and vegetables, Fast food, Processed foods': 128, 'Rice and curry, Fruits and vegetables, Fast food, Processed foods, Traditional Sri Lankan food': 129, 'Rice and curry, Fruits and vegetables, Processed foods, Fast food': 130, 'Rice and curry, Fruits and vegetables, Processed foods, Fast food, Traditional Sri Lankan food': 131, 'Rice and curry, Fruits and vegetables, Processed foods, Traditional Sri Lankan food': 132, 'Rice and curry, Fruits and vegetables, Processed foods, Traditional Sri Lankan food, Fast food': 133, 'Rice and curry, Fruits and vegetables, Traditional Sri Lankan food, Fast food': 134, 'Rice and curry, Fruits and vegetables, Traditional Sri Lankan food, Fast food, Processed foods': 135, 'Rice and curry, Fruits and vegetables, Traditional Sri Lankan food, Processed foods': 136, 'Rice and curry, Processed foods': 137, 'Rice and curry, Processed foods, Fast food': 138, 'Rice and curry, Processed foods, Fast food, Fruits and vegetables, Traditional Sri Lankan food': 139, 'Rice and curry, Processed foods, Fast food, Traditional Sri Lankan food': 140, 'Rice and curry, Processed foods, Fruits and vegetables': 141, 'Rice and curry, Processed foods, Fruits and vegetables, Fast food': 142, 'Rice and curry, Processed foods, Fruits and vegetables, Fast food, Traditional Sri Lankan food': 143, 'Rice and curry, Processed foods, Fruits and vegetables, Traditional Sri Lankan food': 144, 'Rice and curry, Processed foods, Fruits and vegetables, Traditional Sri Lankan food, Fast food': 145, 'Rice and curry, Processed foods, Traditional Sri Lankan food': 146, 'Rice and curry, Processed foods, Traditional Sri Lankan food, Fruits and vegetables, Fast food': 147, 'Rice and curry, Traditional Sri Lankan food': 148, 'Rice and curry, Traditional Sri Lankan food, Fast food': 149, 'Rice and curry, Traditional Sri Lankan food, Fruits and vegetables': 150, 'Rice and curry, Traditional Sri Lankan food, Fruits and vegetables, Fast food': 151, 'Rice and curry, Traditional Sri Lankan food, Fruits and vegetables, Processed foods': 152, 'Rice and curry, Traditional Sri Lankan food, Fruits and vegetables, Processed foods, Fast food': 153, 'Rice and curry, Traditional Sri Lankan food, Processed foods': 154, 'Rice and curry, Traditional Sri Lankan food, Processed foods, Fast food': 155, 'Rice and curry, Traditional Sri Lankan food, Processed foods, Fast food, Fruits and vegetables': 156, 'Traditional Sri Lankan food': 157, 'Traditional Sri Lankan food, Fast food': 158, 'Traditional Sri Lankan food, Fast food (e.g., burgers, pizza)': 159, 'Traditional Sri Lankan food, Fast food (e.g., burgers, pizza), ': 160, 'Traditional Sri Lankan food, Fast food (e.g., burgers, pizza), Fruits and vegetables': 161, 'Traditional Sri Lankan food, Fast food (e.g., burgers, pizza), Processed foods (e.g., instant noodles, frozen foods)': 162, 'Traditional Sri Lankan food, Fast food (e.g., burgers, pizza), Processed foods (e.g., instant noodles, frozen foods), Fruits and vegetables': 163, 'Traditional Sri Lankan food, Fast food (e.g., burgers, pizza), Processed foods (e.g., instant noodles, frozen foods), Fruits and vegetables, Pastries ': 164, 'Traditional Sri Lankan food, Fast food (e.g., burgers, pizza), Vegetarian/Vegan meals': 165, 'Traditional Sri Lankan food, Fast food (e.g., burgers, pizza), Vegetarian/Vegan meals, Fruits and vegetables': 166, 'Traditional Sri Lankan food, Fast food (e.g., burgers, pizza), Vegetarian/Vegan meals, Processed foods (e.g., instant noodles, frozen foods)': 167, 'Traditional Sri Lankan food, Fast food (e.g., burgers, pizza), Vegetarian/Vegan meals, Processed foods (e.g., instant noodles, frozen foods), Fruits and vegetables': 168, 'Traditional Sri Lankan food, Fast food (e.g., burgers, pizza), Vegetarian/Vegan meals, Processed foods (e.g., instant noodles, frozen foods), Fruits and vegetables, ': 169, 'Traditional Sri Lankan food, Fast food, Fruits and vegetables, Processed foods': 170, 'Traditional Sri Lankan food, Fast food, Fruits and vegetables, Rice and curry, Processed foods': 171, 'Traditional Sri Lankan food, Fast food, Processed foods': 172, 'Traditional Sri Lankan food, Fast food, Processed foods, Fruits and vegetables, Rice and curry': 173, 'Traditional Sri Lankan food, Fast food, Processed foods, Rice and curry': 174, 'Traditional Sri Lankan food, Fast food, Processed foods, Rice and curry, Fruits and vegetables': 175, 'Traditional Sri Lankan food, Fast food, Rice and curry': 176, 'Traditional Sri Lankan food, Fast food, Rice and curry, Fruits and vegetables': 177, 'Traditional Sri Lankan food, Fast food, Rice and curry, Processed foods': 178, 'Traditional Sri Lankan food, Fast food, Rice and curry, Processed foods, Fruits and vegetables': 179, 'Traditional Sri Lankan food, Fruits and vegetables': 180, 'Traditional Sri Lankan food, Fruits and vegetables, Fast food': 181, 'Traditional Sri Lankan food, Fruits and vegetables, Fast food, Processed foods': 182, 'Traditional Sri Lankan food, Fruits and vegetables, Fast food, Processed foods, Rice and curry': 183, 'Traditional Sri Lankan food, Fruits and vegetables, Fast food, Rice and curry': 184, 'Traditional Sri Lankan food, Fruits and vegetables, Processed foods': 185, 'Traditional Sri Lankan food, Fruits and vegetables, Processed foods, Rice and curry, Fast food': 186, 'Traditional Sri Lankan food, Fruits and vegetables, Rice and curry, Fast food': 187, 'Traditional Sri Lankan food, Fruits and vegetables, Rice and curry, Fast food, Processed foods': 188, 'Traditional Sri Lankan food, Fruits and vegetables, Rice and curry, Processed foods': 189, 'Traditional Sri Lankan food, Fruits and vegetables, Rice and curry, Processed foods, Fast food': 190, 'Traditional Sri Lankan food, Processed foods': 191, 'Traditional Sri Lankan food, Processed foods (e.g., instant noodles, frozen foods)': 192, 'Traditional Sri Lankan food, Processed foods (e.g., instant noodles, frozen foods), Fruits and vegetables': 193, 'Traditional Sri Lankan food, Processed foods, Fast food': 194, 'Traditional Sri Lankan food, Processed foods, Fast food, Fruits and vegetables': 195, 'Traditional Sri Lankan food, Processed foods, Fast food, Fruits and vegetables, Rice and curry': 196, 'Traditional Sri Lankan food, Processed foods, Fast food, Rice and curry': 197, 'Traditional Sri Lankan food, Processed foods, Fast food, Rice and curry, Fruits and vegetables': 198, 'Traditional Sri Lankan food, Processed foods, Fruits and vegetables': 199, 'Traditional Sri Lankan food, Processed foods, Fruits and vegetables, Fast food, Rice and curry': 200, 'Traditional Sri Lankan food, Processed foods, Fruits and vegetables, Rice and curry': 201, 'Traditional Sri Lankan food, Processed foods, Rice and curry': 202, 'Traditional Sri Lankan food, Processed foods, Rice and curry, Fast food': 203, 'Traditional Sri Lankan food, Processed foods, Rice and curry, Fast food, Fruits and vegetables': 204, 'Traditional Sri Lankan food, Processed foods, Rice and curry, Fruits and vegetables': 205, 'Traditional Sri Lankan food, Rice and curry': 206, 'Traditional Sri Lankan food, Rice and curry, Fast food': 207, 'Traditional Sri Lankan food, Rice and curry, Fast food, Fruits and vegetables, Processed foods': 208, 'Traditional Sri Lankan food, Rice and curry, Fast food, Processed foods, Fruits and vegetables': 209, 'Traditional Sri Lankan food, Rice and curry, Fruits and vegetables, Fast food': 210, 'Traditional Sri Lankan food, Rice and curry, Fruits and vegetables, Fast food, Processed foods': 211, 'Traditional Sri Lankan food, Rice and curry, Fruits and vegetables, Processed foods': 212, 'Traditional Sri Lankan food, Rice and curry, Fruits and vegetables, Processed foods, Fast food': 213, 'Traditional Sri Lankan food, Rice and curry, Processed foods': 214, 'Traditional Sri Lankan food, Rice and curry, Processed foods, Fast food': 215, 'Traditional Sri Lankan food, Rice and curry, Processed foods, Fast food, Fruits and vegetables': 216, 'Traditional Sri Lankan food, Rice and curry, Processed foods, Fruits and vegetables, Fast food': 217, 'Traditional Sri Lankan food, Vegetarian/Vegan meals': 218, 'Traditional Sri Lankan food, Vegetarian/Vegan meals, Fruits and vegetables': 219, 'Traditional Sri Lankan food, Vegetarian/Vegan meals, Processed foods (e.g., instant noodles, frozen foods)': 220, 'Traditional Sri Lankan food, Vegetarian/Vegan meals, Processed foods (e.g., instant noodles, frozen foods), Fruits and vegetables': 221}\n",
      "Encoding for Fast food consumption frequency: {'2-3 times a week': 0, 'Daily': 1, 'Never': 2, 'Once a week': 3, 'Weekly': 4}\n",
      "Encoding for Diet type: {'Low-carb diet': 0, 'No specific diet': 1, 'Pescatarian ( does not eat meat but does eat fish)': 2, 'Vegetarian': 3, 'Vegetarian/Vegan meals': 4}\n",
      "Encoding for Food allergies: {'Banana': 0, 'Canned salmon fish': 1, 'Dairy': 2, 'Dairy, Dryfish': 3, 'Dairy, Nuts, Dryfish': 4, 'Dryfish': 5, 'Dryfish, ': 6, 'Gelatin': 7, 'Gluten': 8, 'Lactose': 9, 'Lactose ': 10, 'Meals': 11, 'Milk mixed foods': 12, 'None': 13, 'Nuts': 14, 'Pork': 15, 'Pork and beef': 16, 'Sausages': 17, 'Seafood': 18, 'Some meats': 19, 'Some sea foods': 20, 'Tomato ': 21, 'Tomatoes': 22}\n",
      "Encoding for Health conditions: {'Acnes': 0, 'Chronic Migraine ': 1, 'Gallstones': 2, 'Gallstones ': 3, 'Gastritis': 4, 'Gastritis, Hypertension': 5, 'High cholesterol': 6, 'High cholesterol, Diabetes': 7, 'None': 8}\n",
      "Encoding for University canteen usage: {'2-3 times a week': 0, 'Daily': 1, 'Occasionally': 2, 'Once a week': 3, 'Rarely/Never': 4}\n",
      "Encoding for Preferred Sri Lankan foods: {'Hoppers': 0, 'Hoppers, Jackfruit curry': 1, 'Hoppers, Jackfruit curry, Kottu, Roti': 2, 'Hoppers, Jackfruit curry, Rice and curry, Roti, Kottu': 3, 'Hoppers, Jackfruit curry, Roti': 4, 'Hoppers, Jackfruit curry, Roti, Kottu, Rice and curry': 5, 'Hoppers, Jackfruit curry, Roti, Kottu, Rice and curry, String hoppers': 6, 'Hoppers, Jackfruit curry, String hoppers': 7, 'Hoppers, Kottu': 8, 'Hoppers, Kottu, Jackfruit curry, Rice and curry, Roti': 9, 'Hoppers, Kottu, Jackfruit curry, Rice and curry, String hoppers, Roti': 10, 'Hoppers, Kottu, Jackfruit curry, String hoppers, Rice and curry': 11, 'Hoppers, Kottu, Rice and curry, Roti': 12, 'Hoppers, Kottu, Roti': 13, 'Hoppers, Kottu, Roti, Jackfruit curry': 14, 'Hoppers, Kottu, Roti, Jackfruit curry, Rice and curry, String hoppers': 15, 'Hoppers, Kottu, Roti, Jackfruit curry, String hoppers': 16, 'Hoppers, Kottu, Roti, Jackfruit curry, String hoppers, Rice and curry': 17, 'Hoppers, Kottu, Roti, String hoppers': 18, 'Hoppers, Kottu, String hoppers, Jackfruit curry, Rice and curry': 19, 'Hoppers, Rice and curry': 20, 'Hoppers, Rice and curry, Jackfruit curry': 21, 'Hoppers, Rice and curry, Jackfruit curry, Kottu': 22, 'Hoppers, Rice and curry, Roti': 23, 'Hoppers, Rice and curry, Roti, Kottu': 24, 'Hoppers, Rice and curry, String hoppers, Jackfruit curry, Kottu': 25, 'Hoppers, Rice and curry, String hoppers, Jackfruit curry, Roti': 26, 'Hoppers, Rice and curry, String hoppers, Kottu, Jackfruit curry, Roti': 27, 'Hoppers, Rice and curry, String hoppers, Kottu, Roti, Jackfruit curry': 28, 'Hoppers, Roti': 29, 'Hoppers, Roti, Jackfruit curry, String hoppers': 30, 'Hoppers, Roti, Kottu': 31, 'Hoppers, Roti, Kottu, Rice and curry': 32, 'Hoppers, Roti, Rice and curry': 33, 'Hoppers, Roti, Rice and curry, Jackfruit curry, String hoppers, Kottu': 34, 'Hoppers, Roti, Rice and curry, String hoppers': 35, 'Hoppers, Roti, String hoppers': 36, 'Hoppers, String hoppers': 37, 'Hoppers, String hoppers, Jackfruit curry, Kottu, Roti, Rice and curry': 38, 'Hoppers, String hoppers, Jackfruit curry, Rice and curry, Roti': 39, 'Hoppers, String hoppers, Kottu': 40, 'Hoppers, String hoppers, Kottu, Rice and curry': 41, 'Hoppers, String hoppers, Kottu, Rice and curry, Roti, Jackfruit curry': 42, 'Hoppers, String hoppers, Kottu, Roti, Jackfruit curry': 43, 'Hoppers, String hoppers, Rice and curry, Jackfruit curry, Roti': 44, 'Hoppers, String hoppers, Rice and curry, Kottu': 45, 'Hoppers, String hoppers, Rice and curry, Kottu, Jackfruit curry': 46, 'Hoppers, String hoppers, Rice and curry, Roti': 47, 'Hoppers, String hoppers, Roti, Jackfruit curry, Rice and curry': 48, 'Hoppers, String hoppers, Roti, Jackfruit curry, Rice and curry, Kottu': 49, 'Hoppers, String hoppers, Roti, Kottu': 50, 'Hoppers, String hoppers, Roti, Kottu, Jackfruit curry': 51, 'Hoppers, String hoppers, Roti, Rice and curry, Jackfruit curry, Kottu': 52, 'Hoppers, String hoppers, Roti, Rice and curry, Kottu, Jackfruit curry': 53, 'Jackfruit curry': 54, 'Jackfruit curry, Hoppers, Kottu, String hoppers, Rice and curry': 55, 'Jackfruit curry, Hoppers, Rice and curry, Roti': 56, 'Jackfruit curry, Hoppers, Roti, String hoppers': 57, 'Jackfruit curry, Hoppers, Roti, String hoppers, Kottu': 58, 'Jackfruit curry, Hoppers, String hoppers': 59, 'Jackfruit curry, Hoppers, String hoppers, Roti, Rice and curry': 60, 'Jackfruit curry, Kottu': 61, 'Jackfruit curry, Kottu, Hoppers, Roti, String hoppers': 62, 'Jackfruit curry, Kottu, Rice and curry': 63, 'Jackfruit curry, Kottu, Rice and curry, Hoppers, Roti, String hoppers': 64, 'Jackfruit curry, Kottu, Rice and curry, String hoppers, Hoppers': 65, 'Jackfruit curry, Kottu, Roti, Rice and curry, Hoppers': 66, 'Jackfruit curry, Kottu, Roti, String hoppers': 67, 'Jackfruit curry, Kottu, Roti, String hoppers, Rice and curry': 68, 'Jackfruit curry, Kottu, String hoppers': 69, 'Jackfruit curry, Kottu, String hoppers, Hoppers, Rice and curry': 70, 'Jackfruit curry, Kottu, String hoppers, Hoppers, Rice and curry, Roti': 71, 'Jackfruit curry, Kottu, String hoppers, Rice and curry': 72, 'Jackfruit curry, Kottu, String hoppers, Roti': 73, 'Jackfruit curry, Rice and curry': 74, 'Jackfruit curry, Rice and curry, Hoppers': 75, 'Jackfruit curry, Rice and curry, Kottu': 76, 'Jackfruit curry, Rice and curry, Roti': 77, 'Jackfruit curry, Rice and curry, Roti, Kottu': 78, 'Jackfruit curry, Rice and curry, Roti, Kottu, Hoppers': 79, 'Jackfruit curry, Rice and curry, Roti, String hoppers': 80, 'Jackfruit curry, Rice and curry, String hoppers, Roti, Hoppers, Kottu': 81, 'Jackfruit curry, Roti, Hoppers': 82, 'Jackfruit curry, Roti, Rice and curry, Hoppers': 83, 'Jackfruit curry, Roti, Rice and curry, Kottu': 84, 'Jackfruit curry, Roti, Rice and curry, String hoppers': 85, 'Jackfruit curry, Roti, String hoppers, Rice and curry, Kottu, Hoppers': 86, 'Jackfruit curry, String hoppers': 87, 'Jackfruit curry, String hoppers, Hoppers': 88, 'Jackfruit curry, String hoppers, Hoppers, Roti, Kottu, Rice and curry': 89, 'Jackfruit curry, String hoppers, Hoppers, Roti, Rice and curry, Kottu': 90, 'Jackfruit curry, String hoppers, Kottu, Hoppers, Rice and curry, Roti': 91, 'Jackfruit curry, String hoppers, Kottu, Roti, Hoppers': 92, 'Jackfruit curry, String hoppers, Rice and curry, Hoppers, Kottu': 93, 'Jackfruit curry, String hoppers, Rice and curry, Hoppers, Kottu, Roti': 94, 'Jackfruit curry, String hoppers, Roti': 95, 'Jackfruit curry, String hoppers, Roti, Rice and curry, Kottu': 96, 'Kottu': 97, 'Kottu, Hoppers': 98, 'Kottu, Hoppers, Jackfruit curry, Rice and curry': 99, 'Kottu, Hoppers, Jackfruit curry, Roti, String hoppers': 100, 'Kottu, Hoppers, Rice and curry': 101, 'Kottu, Hoppers, Rice and curry, Jackfruit curry': 102, 'Kottu, Hoppers, Rice and curry, Roti, String hoppers, Jackfruit curry': 103, 'Kottu, Hoppers, String hoppers': 104, 'Kottu, Jackfruit curry': 105, 'Kottu, Jackfruit curry, Hoppers, Rice and curry, String hoppers, Roti': 106, 'Kottu, Jackfruit curry, Hoppers, Roti, String hoppers, Rice and curry': 107, 'Kottu, Jackfruit curry, Hoppers, String hoppers, Rice and curry': 108, 'Kottu, Jackfruit curry, Rice and curry, Hoppers, Roti': 109, 'Kottu, Jackfruit curry, Rice and curry, String hoppers, Hoppers': 110, 'Kottu, Jackfruit curry, String hoppers, Rice and curry, Hoppers': 111, 'Kottu, Rice and curry': 112, 'Kottu, Rice and curry, Hoppers, Jackfruit curry, String hoppers, Roti': 113, 'Kottu, Rice and curry, Hoppers, String hoppers, Roti': 114, 'Kottu, Rice and curry, Jackfruit curry, Hoppers, Roti, String hoppers': 115, 'Kottu, Rice and curry, Roti': 116, 'Kottu, Rice and curry, Roti, String hoppers, Jackfruit curry': 117, 'Kottu, Rice and curry, String hoppers, Roti, Hoppers, Jackfruit curry': 118, 'Kottu, Roti': 119, 'Kottu, Roti, Hoppers': 120, 'Kottu, Roti, Hoppers, String hoppers, Rice and curry': 121, 'Kottu, Roti, Jackfruit curry, Hoppers, Rice and curry': 122, 'Kottu, Roti, Jackfruit curry, Rice and curry': 123, 'Kottu, Roti, Jackfruit curry, String hoppers': 124, 'Kottu, Roti, Rice and curry, Jackfruit curry': 125, 'Kottu, Roti, Rice and curry, String hoppers, Jackfruit curry, Hoppers': 126, 'Kottu, Roti, String hoppers, Hoppers': 127, 'Kottu, Roti, String hoppers, Jackfruit curry': 128, 'Kottu, String hoppers, Hoppers': 129, 'Kottu, String hoppers, Hoppers, Rice and curry, Jackfruit curry, Roti': 130, 'Kottu, String hoppers, Jackfruit curry': 131, 'Kottu, String hoppers, Jackfruit curry, Rice and curry, Hoppers': 132, 'Kottu, String hoppers, Jackfruit curry, Rice and curry, Hoppers, Roti': 133, 'Kottu, String hoppers, Rice and curry, Jackfruit curry': 134, 'Kottu, String hoppers, Rice and curry, Roti': 135, 'Kottu, String hoppers, Roti, Rice and curry': 136, 'Rice and curry': 137, 'Rice and curry, Hoppers': 138, 'Rice and curry, Hoppers, Jackfruit curry, Roti': 139, 'Rice and curry, Hoppers, Kottu': 140, 'Rice and curry, Hoppers, Kottu, Jackfruit curry, String hoppers': 141, 'Rice and curry, Hoppers, Kottu, String hoppers, Roti': 142, 'Rice and curry, Hoppers, Roti': 143, 'Rice and curry, Hoppers, Roti, Jackfruit curry': 144, 'Rice and curry, Hoppers, Roti, Kottu, Jackfruit curry': 145, 'Rice and curry, Hoppers, String hoppers, Kottu': 146, 'Rice and curry, Hoppers, String hoppers, Kottu, Jackfruit curry': 147, 'Rice and curry, Jackfruit curry': 148, 'Rice and curry, Jackfruit curry, Hoppers': 149, 'Rice and curry, Jackfruit curry, Hoppers, Roti': 150, 'Rice and curry, Jackfruit curry, Hoppers, Roti, Kottu': 151, 'Rice and curry, Jackfruit curry, Hoppers, String hoppers, Roti': 152, 'Rice and curry, Jackfruit curry, Roti': 153, 'Rice and curry, Jackfruit curry, Roti, Kottu': 154, 'Rice and curry, Jackfruit curry, Roti, Kottu, Hoppers, String hoppers': 155, 'Rice and curry, Jackfruit curry, Roti, String hoppers, Hoppers, Kottu': 156, 'Rice and curry, Jackfruit curry, String hoppers': 157, 'Rice and curry, Kottu': 158, 'Rice and curry, Kottu, Hoppers': 159, 'Rice and curry, Kottu, Hoppers, Jackfruit curry, String hoppers': 160, 'Rice and curry, Kottu, Hoppers, Roti': 161, 'Rice and curry, Kottu, Hoppers, Roti, Fried Rice': 162, 'Rice and curry, Kottu, Roti, Hoppers, String hoppers, Jackfruit curry': 163, 'Rice and curry, Kottu, Roti, String hoppers, Hoppers': 164, 'Rice and curry, Kottu, String hoppers, Hoppers, Jackfruit curry': 165, 'Rice and curry, Roti': 166, 'Rice and curry, Roti, Hoppers, Jackfruit curry, Kottu, String hoppers': 167, 'Rice and curry, Roti, Hoppers, Kottu, String hoppers': 168, 'Rice and curry, Roti, Hoppers, String hoppers': 169, 'Rice and curry, Roti, Hoppers, String hoppers, Kottu': 170, 'Rice and curry, Roti, Jackfruit curry, Kottu, Hoppers': 171, 'Rice and curry, Roti, Kottu, Jackfruit curry, String hoppers': 172, 'Rice and curry, Roti, String hoppers': 173, 'Rice and curry, Roti, String hoppers, Jackfruit curry': 174, 'Rice and curry, Roti, String hoppers, Kottu': 175, 'Rice and curry, String hoppers': 176, 'Rice and curry, String hoppers, Hoppers': 177, 'Rice and curry, String hoppers, Hoppers, Roti': 178, 'Rice and curry, String hoppers, Jackfruit curry': 179, 'Rice and curry, String hoppers, Jackfruit curry, Hoppers': 180, 'Rice and curry, String hoppers, Jackfruit curry, Roti': 181, 'Rice and curry, String hoppers, Kottu': 182, 'Rice and curry, String hoppers, Kottu, Hoppers': 183, 'Rice and curry, String hoppers, Kottu, Hoppers, Jackfruit curry, Roti': 184, 'Rice and curry, String hoppers, Kottu, Hoppers, Roti': 185, 'Rice and curry, String hoppers, Kottu, Hoppers, Roti, ': 186, 'Rice and curry, String hoppers, Kottu, Hoppers, Roti, Milk rice, ': 187, 'Rice and curry, String hoppers, Kottu, Hoppers, Roti, Parota': 188, 'Rice and curry, String hoppers, Kottu, Roti': 189, 'Rice and curry, String hoppers, Roti, Hoppers, Jackfruit curry': 190, 'Rice and curry, String hoppers, Roti, Kottu': 191, 'Roti': 192, 'Roti, Hoppers': 193, 'Roti, Hoppers, Kottu': 194, 'Roti, Hoppers, Kottu, Jackfruit curry': 195, 'Roti, Hoppers, Kottu, Jackfruit curry, Rice and curry, String hoppers': 196, 'Roti, Hoppers, Kottu, Rice and curry': 197, 'Roti, Hoppers, Rice and curry, String hoppers': 198, 'Roti, Hoppers, String hoppers, Rice and curry': 199, 'Roti, Hoppers, String hoppers, Rice and curry, Jackfruit curry, Kottu': 200, 'Roti, Jackfruit curry': 201, 'Roti, Jackfruit curry, Hoppers, Kottu, Rice and curry, String hoppers': 202, 'Roti, Jackfruit curry, Kottu, Hoppers': 203, 'Roti, Jackfruit curry, Kottu, Rice and curry, Hoppers, String hoppers': 204, 'Roti, Jackfruit curry, Kottu, String hoppers': 205, 'Roti, Jackfruit curry, String hoppers': 206, 'Roti, Kottu': 207, 'Roti, Kottu, Hoppers, String hoppers': 208, 'Roti, Kottu, Jackfruit curry': 209, 'Roti, Kottu, Jackfruit curry, Hoppers': 210, 'Roti, Kottu, Jackfruit curry, Rice and curry': 211, 'Roti, Kottu, Rice and curry': 212, 'Roti, Kottu, Rice and curry, Jackfruit curry, String hoppers, Hoppers': 213, 'Roti, Kottu, String hoppers, Jackfruit curry, Rice and curry': 214, 'Roti, Rice and curry, Hoppers': 215, 'Roti, Rice and curry, Kottu': 216, 'Roti, Rice and curry, Kottu, Jackfruit curry': 217, 'Roti, Rice and curry, Kottu, Jackfruit curry, String hoppers': 218, 'Roti, Rice and curry, String hoppers, Hoppers, Jackfruit curry, Kottu': 219, 'Roti, Rice and curry, String hoppers, Jackfruit curry': 220, 'Roti, String hoppers': 221, 'Roti, String hoppers, Jackfruit curry, Hoppers': 222, 'Roti, String hoppers, Kottu, Rice and curry, Hoppers': 223, 'Roti, String hoppers, Rice and curry, Hoppers': 224, 'String hoppers': 225, 'String hoppers, Hoppers': 226, 'String hoppers, Hoppers, Jackfruit curry, Rice and curry, Kottu': 227, 'String hoppers, Hoppers, Rice and curry': 228, 'String hoppers, Hoppers, Rice and curry, Kottu, Roti': 229, 'String hoppers, Hoppers, Roti': 230, 'String hoppers, Hoppers, Roti, Jackfruit curry, Kottu': 231, 'String hoppers, Hoppers, Roti, Kottu, Rice and curry, Jackfruit curry': 232, 'String hoppers, Jackfruit curry': 233, 'String hoppers, Jackfruit curry, Hoppers': 234, 'String hoppers, Jackfruit curry, Hoppers, Kottu': 235, 'String hoppers, Jackfruit curry, Hoppers, Rice and curry, Roti, Kottu': 236, 'String hoppers, Jackfruit curry, Hoppers, Roti, Rice and curry, Kottu': 237, 'String hoppers, Jackfruit curry, Kottu, Rice and curry': 238, 'String hoppers, Jackfruit curry, Rice and curry, Hoppers, Kottu': 239, 'String hoppers, Jackfruit curry, Rice and curry, Kottu, Hoppers': 240, 'String hoppers, Jackfruit curry, Rice and curry, Roti, Kottu, Hoppers': 241, 'String hoppers, Jackfruit curry, Roti, Hoppers': 242, 'String hoppers, Jackfruit curry, Roti, Hoppers, Kottu': 243, 'String hoppers, Jackfruit curry, Roti, Rice and curry, Hoppers': 244, 'String hoppers, Kottu': 245, 'String hoppers, Kottu, Hoppers, Jackfruit curry, Rice and curry, Roti': 246, 'String hoppers, Kottu, Jackfruit curry, Rice and curry': 247, 'String hoppers, Kottu, Roti': 248, 'String hoppers, Rice and curry, Hoppers, Roti': 249, 'String hoppers, Rice and curry, Jackfruit curry, Hoppers': 250, 'String hoppers, Rice and curry, Jackfruit curry, Hoppers, Kottu': 251, 'String hoppers, Rice and curry, Jackfruit curry, Kottu': 252, 'String hoppers, Rice and curry, Roti': 253, 'String hoppers, Rice and curry, Roti, Jackfruit curry, Kottu, Hoppers': 254, 'String hoppers, Roti': 255, 'String hoppers, Roti, Hoppers, Rice and curry, Kottu, Jackfruit curry': 256, 'String hoppers, Roti, Jackfruit curry, Rice and curry': 257, 'String hoppers, Roti, Rice and curry': 258, 'String hoppers, Roti, Rice and curry, Jackfruit curry, Hoppers': 259, 'String hoppers, Roti, Rice and curry, Kottu, Hoppers': 260}\n",
      "Encoding for Diet goal: {'Better health': 0, 'I have to gain weight in a healthy way': 1, 'Improve energy levels': 2, 'Manage health conditions': 3, 'Sustainable diet': 4, 'Weight management': 5}\n"
     ]
    }
   ],
   "source": [
    "from sklearn.preprocessing import LabelEncoder\n",
    "\n",
    "# List of columns to exclude from encoding\n",
    "exclude_columns = ['Age', 'Sleep', 'Weight', 'Height', 'Weekly spend for food', 'Protein']\n",
    "\n",
    "# Identify all categorical columns, excluding the specified ones\n",
    "categorical_columns = [col for col in df.select_dtypes(include='object').columns if col not in exclude_columns]\n",
    "\n",
    "# Initialize a dictionary to store LabelEncoders for each column (optional: for inverse transformation)\n",
    "label_encoders = {}\n",
    "\n",
    "# Apply label encoding to the selected categorical columns\n",
    "for col in categorical_columns:\n",
    "    le = LabelEncoder()\n",
    "    df[col] = le.fit_transform(df[col].astype(str))  # Convert to string to handle all cases\n",
    "    label_encoders[col] = le\n",
    "\n",
    "# Display the first few rows to confirm the encoding\n",
    "print(df.head())\n",
    "\n",
    "# Optionally, display the mappings for each encoded column\n",
    "for col in categorical_columns:\n",
    "    print(f\"Encoding for {col}: {dict(zip(label_encoders[col].classes_, range(len(label_encoders[col].classes_))))}\")\n",
    "\n"
   ]
  },
  {
   "cell_type": "code",
   "execution_count": 107,
   "metadata": {},
   "outputs": [
    {
     "name": "stdout",
     "output_type": "stream",
     "text": [
      "Encoding for Gender: {'Female': 0, 'Male': 1}\n",
      "Encoding for Faculty: {'BSF': 0, 'FAPM': 1, 'FAS': 2, 'FLFN': 3, 'FOM': 4, 'FOT': 5}\n",
      "Encoding for Year of study: {'1st year': 0, '2nd year': 1, '3rd year': 2, '4th year': 3, 'Postgraduate': 4}\n",
      "Encoding for Exercise frequency: {'1-2 times per week': 0, '3-4 times per week': 1, 'Daily': 2, 'Never': 3, 'Rarely': 4}\n",
      "Encoding for Frequent food: {'Fast food': 0, 'Fast food (e.g., burgers, pizza)': 1, 'Fast food (e.g., burgers, pizza), Processed foods (e.g., instant noodles, frozen foods)': 2, 'Fast food (e.g., burgers, pizza), Processed foods (e.g., instant noodles, frozen foods), Fruits and vegetables, ': 3, 'Fast food, Fruits and vegetables': 4, 'Fast food, Fruits and vegetables, Rice and curry': 5, 'Fast food, Fruits and vegetables, Rice and curry, Processed foods': 6, 'Fast food, Fruits and vegetables, Rice and curry, Traditional Sri Lankan food, Processed foods': 7, 'Fast food, Fruits and vegetables, Traditional Sri Lankan food': 8, 'Fast food, Fruits and vegetables, Traditional Sri Lankan food, Processed foods, Rice and curry': 9, 'Fast food, Fruits and vegetables, Traditional Sri Lankan food, Rice and curry': 10, 'Fast food, Processed foods': 11, 'Fast food, Processed foods, Fruits and vegetables': 12, 'Fast food, Processed foods, Fruits and vegetables, Traditional Sri Lankan food': 13, 'Fast food, Processed foods, Fruits and vegetables, Traditional Sri Lankan food, Rice and curry': 14, 'Fast food, Processed foods, Rice and curry': 15, 'Fast food, Processed foods, Rice and curry, Fruits and vegetables': 16, 'Fast food, Processed foods, Rice and curry, Traditional Sri Lankan food, Fruits and vegetables': 17, 'Fast food, Processed foods, Traditional Sri Lankan food': 18, 'Fast food, Processed foods, Traditional Sri Lankan food, Fruits and vegetables': 19, 'Fast food, Processed foods, Traditional Sri Lankan food, Rice and curry': 20, 'Fast food, Rice and curry': 21, 'Fast food, Rice and curry, Fruits and vegetables': 22, 'Fast food, Rice and curry, Fruits and vegetables, Processed foods, Traditional Sri Lankan food': 23, 'Fast food, Rice and curry, Fruits and vegetables, Traditional Sri Lankan food, Processed foods': 24, 'Fast food, Rice and curry, Processed foods': 25, 'Fast food, Rice and curry, Processed foods, Traditional Sri Lankan food': 26, 'Fast food, Rice and curry, Traditional Sri Lankan food': 27, 'Fast food, Rice and curry, Traditional Sri Lankan food, Fruits and vegetables': 28, 'Fast food, Rice and curry, Traditional Sri Lankan food, Processed foods, Fruits and vegetables': 29, 'Fast food, Traditional Sri Lankan food': 30, 'Fast food, Traditional Sri Lankan food, Fruits and vegetables': 31, 'Fast food, Traditional Sri Lankan food, Fruits and vegetables, Rice and curry': 32, 'Fast food, Traditional Sri Lankan food, Fruits and vegetables, Rice and curry, Processed foods': 33, 'Fast food, Traditional Sri Lankan food, Processed foods': 34, 'Fast food, Traditional Sri Lankan food, Processed foods, Fruits and vegetables, Rice and curry': 35, 'Fast food, Traditional Sri Lankan food, Processed foods, Rice and curry, Fruits and vegetables': 36, 'Fast food, Traditional Sri Lankan food, Rice and curry, Fruits and vegetables': 37, 'Fast food, Traditional Sri Lankan food, Rice and curry, Fruits and vegetables, Processed foods': 38, 'Fast food, Traditional Sri Lankan food, Rice and curry, Processed foods': 39, 'Fast food, Traditional Sri Lankan food, Rice and curry, Processed foods, Fruits and vegetables': 40, 'Fried rice , kottu': 41, 'Fruits and vegetables': 42, 'Fruits and vegetables, Chocolates': 43, 'Fruits and vegetables, Fast food': 44, 'Fruits and vegetables, Fast food, Processed foods': 45, 'Fruits and vegetables, Fast food, Processed foods, Rice and curry, Traditional Sri Lankan food': 46, 'Fruits and vegetables, Fast food, Processed foods, Traditional Sri Lankan food': 47, 'Fruits and vegetables, Fast food, Rice and curry': 48, 'Fruits and vegetables, Fast food, Rice and curry, Processed foods': 49, 'Fruits and vegetables, Fast food, Rice and curry, Traditional Sri Lankan food': 50, 'Fruits and vegetables, Fast food, Rice and curry, Traditional Sri Lankan food, Processed foods': 51, 'Fruits and vegetables, Fast food, Traditional Sri Lankan food': 52, 'Fruits and vegetables, Fast food, Traditional Sri Lankan food, Processed foods': 53, 'Fruits and vegetables, Fast food, Traditional Sri Lankan food, Processed foods, Rice and curry': 54, 'Fruits and vegetables, Processed foods': 55, 'Fruits and vegetables, Processed foods, Fast food, Rice and curry, Traditional Sri Lankan food': 56, 'Fruits and vegetables, Processed foods, Fast food, Traditional Sri Lankan food, Rice and curry': 57, 'Fruits and vegetables, Processed foods, Rice and curry': 58, 'Fruits and vegetables, Processed foods, Rice and curry, Traditional Sri Lankan food': 59, 'Fruits and vegetables, Processed foods, Traditional Sri Lankan food': 60, 'Fruits and vegetables, Processed foods, Traditional Sri Lankan food, Fast food, Rice and curry': 61, 'Fruits and vegetables, Processed foods, Traditional Sri Lankan food, Rice and curry': 62, 'Fruits and vegetables, Rice and curry': 63, 'Fruits and vegetables, Rice and curry, Fast food, Processed foods': 64, 'Fruits and vegetables, Rice and curry, Fast food, Traditional Sri Lankan food, Processed foods': 65, 'Fruits and vegetables, Rice and curry, Processed foods, Fast food, Traditional Sri Lankan food': 66, 'Fruits and vegetables, Rice and curry, Traditional Sri Lankan food': 67, 'Fruits and vegetables, Rice and curry, Traditional Sri Lankan food, Fast food': 68, 'Fruits and vegetables, Rice and curry, Traditional Sri Lankan food, Processed foods, Fast food': 69, 'Fruits and vegetables, Traditional Sri Lankan food': 70, 'Fruits and vegetables, Traditional Sri Lankan food, Fast food': 71, 'Fruits and vegetables, Traditional Sri Lankan food, Fast food, Processed foods': 72, 'Fruits and vegetables, Traditional Sri Lankan food, Fast food, Processed foods, Rice and curry': 73, 'Fruits and vegetables, Traditional Sri Lankan food, Fast food, Rice and curry': 74, 'Fruits and vegetables, Traditional Sri Lankan food, Fast food, Rice and curry, Processed foods': 75, 'Fruits and vegetables, Traditional Sri Lankan food, Processed foods': 76, 'Fruits and vegetables, Traditional Sri Lankan food, Processed foods, Fast food, Rice and curry': 77, 'Fruits and vegetables, Traditional Sri Lankan food, Rice and curry': 78, 'Fruits and vegetables, Traditional Sri Lankan food, Rice and curry, Fast food': 79, 'Fruits and vegetables, Traditional Sri Lankan food, Rice and curry, Fast food, Processed foods': 80, 'Fruits and vegetables, Traditional Sri Lankan food, Rice and curry, Processed foods': 81, 'Processed foods': 82, 'Processed foods (e.g., instant noodles, frozen foods)': 83, 'Processed foods (e.g., instant noodles, frozen foods), Fruits and vegetables': 84, 'Processed foods, Fast food': 85, 'Processed foods, Fast food, Fruits and vegetables': 86, 'Processed foods, Fast food, Fruits and vegetables, Traditional Sri Lankan food, Rice and curry': 87, 'Processed foods, Fast food, Rice and curry': 88, 'Processed foods, Fast food, Rice and curry, Fruits and vegetables, Traditional Sri Lankan food': 89, 'Processed foods, Fast food, Rice and curry, Traditional Sri Lankan food, Fruits and vegetables': 90, 'Processed foods, Fast food, Traditional Sri Lankan food': 91, 'Processed foods, Fruits and vegetables': 92, 'Processed foods, Fruits and vegetables, Fast food': 93, 'Processed foods, Fruits and vegetables, Fast food, Rice and curry, Traditional Sri Lankan food': 94, 'Processed foods, Fruits and vegetables, Rice and curry': 95, 'Processed foods, Fruits and vegetables, Rice and curry, Fast food, Traditional Sri Lankan food': 96, 'Processed foods, Fruits and vegetables, Rice and curry, Traditional Sri Lankan food': 97, 'Processed foods, Fruits and vegetables, Rice and curry, Traditional Sri Lankan food, Fast food': 98, 'Processed foods, Fruits and vegetables, Traditional Sri Lankan food': 99, 'Processed foods, Fruits and vegetables, Traditional Sri Lankan food, Rice and curry, Fast food': 100, 'Processed foods, Rice and curry': 101, 'Processed foods, Rice and curry, Fast food': 102, 'Processed foods, Rice and curry, Fruits and vegetables': 103, 'Processed foods, Rice and curry, Fruits and vegetables, Fast food': 104, 'Processed foods, Rice and curry, Traditional Sri Lankan food, Fast food': 105, 'Processed foods, Rice and curry, Traditional Sri Lankan food, Fast food, Fruits and vegetables': 106, 'Processed foods, Traditional Sri Lankan food': 107, 'Processed foods, Traditional Sri Lankan food, Fast food': 108, 'Processed foods, Traditional Sri Lankan food, Fast food, Fruits and vegetables': 109, 'Processed foods, Traditional Sri Lankan food, Fast food, Rice and curry': 110, 'Processed foods, Traditional Sri Lankan food, Fruits and vegetables': 111, 'Processed foods, Traditional Sri Lankan food, Fruits and vegetables, Fast food, Rice and curry': 112, 'Processed foods, Traditional Sri Lankan food, Fruits and vegetables, Rice and curry': 113, 'Processed foods, Traditional Sri Lankan food, Rice and curry': 114, 'Processed foods, Traditional Sri Lankan food, Rice and curry, Fast food, Fruits and vegetables': 115, 'Processed foods, Traditional Sri Lankan food, Rice and curry, Fruits and vegetables': 116, 'Rice and curry': 117, 'Rice and curry, Fast food': 118, 'Rice and curry, Fast food, Fruits and vegetables': 119, 'Rice and curry, Fast food, Processed foods': 120, 'Rice and curry, Fast food, Processed foods, Fruits and vegetables, Traditional Sri Lankan food': 121, 'Rice and curry, Fast food, Processed foods, Traditional Sri Lankan food, Fruits and vegetables': 122, 'Rice and curry, Fast food, Traditional Sri Lankan food': 123, 'Rice and curry, Fast food, Traditional Sri Lankan food, Fruits and vegetables, Processed foods': 124, 'Rice and curry, Fast food, Traditional Sri Lankan food, Processed foods, Fruits and vegetables': 125, 'Rice and curry, Fruits and vegetables': 126, 'Rice and curry, Fruits and vegetables, Fast food': 127, 'Rice and curry, Fruits and vegetables, Fast food, Processed foods': 128, 'Rice and curry, Fruits and vegetables, Fast food, Processed foods, Traditional Sri Lankan food': 129, 'Rice and curry, Fruits and vegetables, Processed foods, Fast food': 130, 'Rice and curry, Fruits and vegetables, Processed foods, Fast food, Traditional Sri Lankan food': 131, 'Rice and curry, Fruits and vegetables, Processed foods, Traditional Sri Lankan food': 132, 'Rice and curry, Fruits and vegetables, Processed foods, Traditional Sri Lankan food, Fast food': 133, 'Rice and curry, Fruits and vegetables, Traditional Sri Lankan food, Fast food': 134, 'Rice and curry, Fruits and vegetables, Traditional Sri Lankan food, Fast food, Processed foods': 135, 'Rice and curry, Fruits and vegetables, Traditional Sri Lankan food, Processed foods': 136, 'Rice and curry, Processed foods': 137, 'Rice and curry, Processed foods, Fast food': 138, 'Rice and curry, Processed foods, Fast food, Fruits and vegetables, Traditional Sri Lankan food': 139, 'Rice and curry, Processed foods, Fast food, Traditional Sri Lankan food': 140, 'Rice and curry, Processed foods, Fruits and vegetables': 141, 'Rice and curry, Processed foods, Fruits and vegetables, Fast food': 142, 'Rice and curry, Processed foods, Fruits and vegetables, Fast food, Traditional Sri Lankan food': 143, 'Rice and curry, Processed foods, Fruits and vegetables, Traditional Sri Lankan food': 144, 'Rice and curry, Processed foods, Fruits and vegetables, Traditional Sri Lankan food, Fast food': 145, 'Rice and curry, Processed foods, Traditional Sri Lankan food': 146, 'Rice and curry, Processed foods, Traditional Sri Lankan food, Fruits and vegetables, Fast food': 147, 'Rice and curry, Traditional Sri Lankan food': 148, 'Rice and curry, Traditional Sri Lankan food, Fast food': 149, 'Rice and curry, Traditional Sri Lankan food, Fruits and vegetables': 150, 'Rice and curry, Traditional Sri Lankan food, Fruits and vegetables, Fast food': 151, 'Rice and curry, Traditional Sri Lankan food, Fruits and vegetables, Processed foods': 152, 'Rice and curry, Traditional Sri Lankan food, Fruits and vegetables, Processed foods, Fast food': 153, 'Rice and curry, Traditional Sri Lankan food, Processed foods': 154, 'Rice and curry, Traditional Sri Lankan food, Processed foods, Fast food': 155, 'Rice and curry, Traditional Sri Lankan food, Processed foods, Fast food, Fruits and vegetables': 156, 'Traditional Sri Lankan food': 157, 'Traditional Sri Lankan food, Fast food': 158, 'Traditional Sri Lankan food, Fast food (e.g., burgers, pizza)': 159, 'Traditional Sri Lankan food, Fast food (e.g., burgers, pizza), ': 160, 'Traditional Sri Lankan food, Fast food (e.g., burgers, pizza), Fruits and vegetables': 161, 'Traditional Sri Lankan food, Fast food (e.g., burgers, pizza), Processed foods (e.g., instant noodles, frozen foods)': 162, 'Traditional Sri Lankan food, Fast food (e.g., burgers, pizza), Processed foods (e.g., instant noodles, frozen foods), Fruits and vegetables': 163, 'Traditional Sri Lankan food, Fast food (e.g., burgers, pizza), Processed foods (e.g., instant noodles, frozen foods), Fruits and vegetables, Pastries ': 164, 'Traditional Sri Lankan food, Fast food (e.g., burgers, pizza), Vegetarian/Vegan meals': 165, 'Traditional Sri Lankan food, Fast food (e.g., burgers, pizza), Vegetarian/Vegan meals, Fruits and vegetables': 166, 'Traditional Sri Lankan food, Fast food (e.g., burgers, pizza), Vegetarian/Vegan meals, Processed foods (e.g., instant noodles, frozen foods)': 167, 'Traditional Sri Lankan food, Fast food (e.g., burgers, pizza), Vegetarian/Vegan meals, Processed foods (e.g., instant noodles, frozen foods), Fruits and vegetables': 168, 'Traditional Sri Lankan food, Fast food (e.g., burgers, pizza), Vegetarian/Vegan meals, Processed foods (e.g., instant noodles, frozen foods), Fruits and vegetables, ': 169, 'Traditional Sri Lankan food, Fast food, Fruits and vegetables, Processed foods': 170, 'Traditional Sri Lankan food, Fast food, Fruits and vegetables, Rice and curry, Processed foods': 171, 'Traditional Sri Lankan food, Fast food, Processed foods': 172, 'Traditional Sri Lankan food, Fast food, Processed foods, Fruits and vegetables, Rice and curry': 173, 'Traditional Sri Lankan food, Fast food, Processed foods, Rice and curry': 174, 'Traditional Sri Lankan food, Fast food, Processed foods, Rice and curry, Fruits and vegetables': 175, 'Traditional Sri Lankan food, Fast food, Rice and curry': 176, 'Traditional Sri Lankan food, Fast food, Rice and curry, Fruits and vegetables': 177, 'Traditional Sri Lankan food, Fast food, Rice and curry, Processed foods': 178, 'Traditional Sri Lankan food, Fast food, Rice and curry, Processed foods, Fruits and vegetables': 179, 'Traditional Sri Lankan food, Fruits and vegetables': 180, 'Traditional Sri Lankan food, Fruits and vegetables, Fast food': 181, 'Traditional Sri Lankan food, Fruits and vegetables, Fast food, Processed foods': 182, 'Traditional Sri Lankan food, Fruits and vegetables, Fast food, Processed foods, Rice and curry': 183, 'Traditional Sri Lankan food, Fruits and vegetables, Fast food, Rice and curry': 184, 'Traditional Sri Lankan food, Fruits and vegetables, Processed foods': 185, 'Traditional Sri Lankan food, Fruits and vegetables, Processed foods, Rice and curry, Fast food': 186, 'Traditional Sri Lankan food, Fruits and vegetables, Rice and curry, Fast food': 187, 'Traditional Sri Lankan food, Fruits and vegetables, Rice and curry, Fast food, Processed foods': 188, 'Traditional Sri Lankan food, Fruits and vegetables, Rice and curry, Processed foods': 189, 'Traditional Sri Lankan food, Fruits and vegetables, Rice and curry, Processed foods, Fast food': 190, 'Traditional Sri Lankan food, Processed foods': 191, 'Traditional Sri Lankan food, Processed foods (e.g., instant noodles, frozen foods)': 192, 'Traditional Sri Lankan food, Processed foods (e.g., instant noodles, frozen foods), Fruits and vegetables': 193, 'Traditional Sri Lankan food, Processed foods, Fast food': 194, 'Traditional Sri Lankan food, Processed foods, Fast food, Fruits and vegetables': 195, 'Traditional Sri Lankan food, Processed foods, Fast food, Fruits and vegetables, Rice and curry': 196, 'Traditional Sri Lankan food, Processed foods, Fast food, Rice and curry': 197, 'Traditional Sri Lankan food, Processed foods, Fast food, Rice and curry, Fruits and vegetables': 198, 'Traditional Sri Lankan food, Processed foods, Fruits and vegetables': 199, 'Traditional Sri Lankan food, Processed foods, Fruits and vegetables, Fast food, Rice and curry': 200, 'Traditional Sri Lankan food, Processed foods, Fruits and vegetables, Rice and curry': 201, 'Traditional Sri Lankan food, Processed foods, Rice and curry': 202, 'Traditional Sri Lankan food, Processed foods, Rice and curry, Fast food': 203, 'Traditional Sri Lankan food, Processed foods, Rice and curry, Fast food, Fruits and vegetables': 204, 'Traditional Sri Lankan food, Processed foods, Rice and curry, Fruits and vegetables': 205, 'Traditional Sri Lankan food, Rice and curry': 206, 'Traditional Sri Lankan food, Rice and curry, Fast food': 207, 'Traditional Sri Lankan food, Rice and curry, Fast food, Fruits and vegetables, Processed foods': 208, 'Traditional Sri Lankan food, Rice and curry, Fast food, Processed foods, Fruits and vegetables': 209, 'Traditional Sri Lankan food, Rice and curry, Fruits and vegetables, Fast food': 210, 'Traditional Sri Lankan food, Rice and curry, Fruits and vegetables, Fast food, Processed foods': 211, 'Traditional Sri Lankan food, Rice and curry, Fruits and vegetables, Processed foods': 212, 'Traditional Sri Lankan food, Rice and curry, Fruits and vegetables, Processed foods, Fast food': 213, 'Traditional Sri Lankan food, Rice and curry, Processed foods': 214, 'Traditional Sri Lankan food, Rice and curry, Processed foods, Fast food': 215, 'Traditional Sri Lankan food, Rice and curry, Processed foods, Fast food, Fruits and vegetables': 216, 'Traditional Sri Lankan food, Rice and curry, Processed foods, Fruits and vegetables, Fast food': 217, 'Traditional Sri Lankan food, Vegetarian/Vegan meals': 218, 'Traditional Sri Lankan food, Vegetarian/Vegan meals, Fruits and vegetables': 219, 'Traditional Sri Lankan food, Vegetarian/Vegan meals, Processed foods (e.g., instant noodles, frozen foods)': 220, 'Traditional Sri Lankan food, Vegetarian/Vegan meals, Processed foods (e.g., instant noodles, frozen foods), Fruits and vegetables': 221}\n",
      "Encoding for Fast food consumption frequency: {'2-3 times a week': 0, 'Daily': 1, 'Never': 2, 'Once a week': 3, 'Weekly': 4}\n",
      "Encoding for Diet type: {'Low-carb diet': 0, 'No specific diet': 1, 'Pescatarian ( does not eat meat but does eat fish)': 2, 'Vegetarian': 3, 'Vegetarian/Vegan meals': 4}\n",
      "Encoding for Food allergies: {'Banana': 0, 'Canned salmon fish': 1, 'Dairy': 2, 'Dairy, Dryfish': 3, 'Dairy, Nuts, Dryfish': 4, 'Dryfish': 5, 'Dryfish, ': 6, 'Gelatin': 7, 'Gluten': 8, 'Lactose': 9, 'Lactose ': 10, 'Meals': 11, 'Milk mixed foods': 12, 'None': 13, 'Nuts': 14, 'Pork': 15, 'Pork and beef': 16, 'Sausages': 17, 'Seafood': 18, 'Some meats': 19, 'Some sea foods': 20, 'Tomato ': 21, 'Tomatoes': 22}\n",
      "Encoding for Health conditions: {'Acnes': 0, 'Chronic Migraine ': 1, 'Gallstones': 2, 'Gallstones ': 3, 'Gastritis': 4, 'Gastritis, Hypertension': 5, 'High cholesterol': 6, 'High cholesterol, Diabetes': 7, 'None': 8}\n",
      "Encoding for University canteen usage: {'2-3 times a week': 0, 'Daily': 1, 'Occasionally': 2, 'Once a week': 3, 'Rarely/Never': 4}\n",
      "Encoding for Preferred Sri Lankan foods: {'Hoppers': 0, 'Hoppers, Jackfruit curry': 1, 'Hoppers, Jackfruit curry, Kottu, Roti': 2, 'Hoppers, Jackfruit curry, Rice and curry, Roti, Kottu': 3, 'Hoppers, Jackfruit curry, Roti': 4, 'Hoppers, Jackfruit curry, Roti, Kottu, Rice and curry': 5, 'Hoppers, Jackfruit curry, Roti, Kottu, Rice and curry, String hoppers': 6, 'Hoppers, Jackfruit curry, String hoppers': 7, 'Hoppers, Kottu': 8, 'Hoppers, Kottu, Jackfruit curry, Rice and curry, Roti': 9, 'Hoppers, Kottu, Jackfruit curry, Rice and curry, String hoppers, Roti': 10, 'Hoppers, Kottu, Jackfruit curry, String hoppers, Rice and curry': 11, 'Hoppers, Kottu, Rice and curry, Roti': 12, 'Hoppers, Kottu, Roti': 13, 'Hoppers, Kottu, Roti, Jackfruit curry': 14, 'Hoppers, Kottu, Roti, Jackfruit curry, Rice and curry, String hoppers': 15, 'Hoppers, Kottu, Roti, Jackfruit curry, String hoppers': 16, 'Hoppers, Kottu, Roti, Jackfruit curry, String hoppers, Rice and curry': 17, 'Hoppers, Kottu, Roti, String hoppers': 18, 'Hoppers, Kottu, String hoppers, Jackfruit curry, Rice and curry': 19, 'Hoppers, Rice and curry': 20, 'Hoppers, Rice and curry, Jackfruit curry': 21, 'Hoppers, Rice and curry, Jackfruit curry, Kottu': 22, 'Hoppers, Rice and curry, Roti': 23, 'Hoppers, Rice and curry, Roti, Kottu': 24, 'Hoppers, Rice and curry, String hoppers, Jackfruit curry, Kottu': 25, 'Hoppers, Rice and curry, String hoppers, Jackfruit curry, Roti': 26, 'Hoppers, Rice and curry, String hoppers, Kottu, Jackfruit curry, Roti': 27, 'Hoppers, Rice and curry, String hoppers, Kottu, Roti, Jackfruit curry': 28, 'Hoppers, Roti': 29, 'Hoppers, Roti, Jackfruit curry, String hoppers': 30, 'Hoppers, Roti, Kottu': 31, 'Hoppers, Roti, Kottu, Rice and curry': 32, 'Hoppers, Roti, Rice and curry': 33, 'Hoppers, Roti, Rice and curry, Jackfruit curry, String hoppers, Kottu': 34, 'Hoppers, Roti, Rice and curry, String hoppers': 35, 'Hoppers, Roti, String hoppers': 36, 'Hoppers, String hoppers': 37, 'Hoppers, String hoppers, Jackfruit curry, Kottu, Roti, Rice and curry': 38, 'Hoppers, String hoppers, Jackfruit curry, Rice and curry, Roti': 39, 'Hoppers, String hoppers, Kottu': 40, 'Hoppers, String hoppers, Kottu, Rice and curry': 41, 'Hoppers, String hoppers, Kottu, Rice and curry, Roti, Jackfruit curry': 42, 'Hoppers, String hoppers, Kottu, Roti, Jackfruit curry': 43, 'Hoppers, String hoppers, Rice and curry, Jackfruit curry, Roti': 44, 'Hoppers, String hoppers, Rice and curry, Kottu': 45, 'Hoppers, String hoppers, Rice and curry, Kottu, Jackfruit curry': 46, 'Hoppers, String hoppers, Rice and curry, Roti': 47, 'Hoppers, String hoppers, Roti, Jackfruit curry, Rice and curry': 48, 'Hoppers, String hoppers, Roti, Jackfruit curry, Rice and curry, Kottu': 49, 'Hoppers, String hoppers, Roti, Kottu': 50, 'Hoppers, String hoppers, Roti, Kottu, Jackfruit curry': 51, 'Hoppers, String hoppers, Roti, Rice and curry, Jackfruit curry, Kottu': 52, 'Hoppers, String hoppers, Roti, Rice and curry, Kottu, Jackfruit curry': 53, 'Jackfruit curry': 54, 'Jackfruit curry, Hoppers, Kottu, String hoppers, Rice and curry': 55, 'Jackfruit curry, Hoppers, Rice and curry, Roti': 56, 'Jackfruit curry, Hoppers, Roti, String hoppers': 57, 'Jackfruit curry, Hoppers, Roti, String hoppers, Kottu': 58, 'Jackfruit curry, Hoppers, String hoppers': 59, 'Jackfruit curry, Hoppers, String hoppers, Roti, Rice and curry': 60, 'Jackfruit curry, Kottu': 61, 'Jackfruit curry, Kottu, Hoppers, Roti, String hoppers': 62, 'Jackfruit curry, Kottu, Rice and curry': 63, 'Jackfruit curry, Kottu, Rice and curry, Hoppers, Roti, String hoppers': 64, 'Jackfruit curry, Kottu, Rice and curry, String hoppers, Hoppers': 65, 'Jackfruit curry, Kottu, Roti, Rice and curry, Hoppers': 66, 'Jackfruit curry, Kottu, Roti, String hoppers': 67, 'Jackfruit curry, Kottu, Roti, String hoppers, Rice and curry': 68, 'Jackfruit curry, Kottu, String hoppers': 69, 'Jackfruit curry, Kottu, String hoppers, Hoppers, Rice and curry': 70, 'Jackfruit curry, Kottu, String hoppers, Hoppers, Rice and curry, Roti': 71, 'Jackfruit curry, Kottu, String hoppers, Rice and curry': 72, 'Jackfruit curry, Kottu, String hoppers, Roti': 73, 'Jackfruit curry, Rice and curry': 74, 'Jackfruit curry, Rice and curry, Hoppers': 75, 'Jackfruit curry, Rice and curry, Kottu': 76, 'Jackfruit curry, Rice and curry, Roti': 77, 'Jackfruit curry, Rice and curry, Roti, Kottu': 78, 'Jackfruit curry, Rice and curry, Roti, Kottu, Hoppers': 79, 'Jackfruit curry, Rice and curry, Roti, String hoppers': 80, 'Jackfruit curry, Rice and curry, String hoppers, Roti, Hoppers, Kottu': 81, 'Jackfruit curry, Roti, Hoppers': 82, 'Jackfruit curry, Roti, Rice and curry, Hoppers': 83, 'Jackfruit curry, Roti, Rice and curry, Kottu': 84, 'Jackfruit curry, Roti, Rice and curry, String hoppers': 85, 'Jackfruit curry, Roti, String hoppers, Rice and curry, Kottu, Hoppers': 86, 'Jackfruit curry, String hoppers': 87, 'Jackfruit curry, String hoppers, Hoppers': 88, 'Jackfruit curry, String hoppers, Hoppers, Roti, Kottu, Rice and curry': 89, 'Jackfruit curry, String hoppers, Hoppers, Roti, Rice and curry, Kottu': 90, 'Jackfruit curry, String hoppers, Kottu, Hoppers, Rice and curry, Roti': 91, 'Jackfruit curry, String hoppers, Kottu, Roti, Hoppers': 92, 'Jackfruit curry, String hoppers, Rice and curry, Hoppers, Kottu': 93, 'Jackfruit curry, String hoppers, Rice and curry, Hoppers, Kottu, Roti': 94, 'Jackfruit curry, String hoppers, Roti': 95, 'Jackfruit curry, String hoppers, Roti, Rice and curry, Kottu': 96, 'Kottu': 97, 'Kottu, Hoppers': 98, 'Kottu, Hoppers, Jackfruit curry, Rice and curry': 99, 'Kottu, Hoppers, Jackfruit curry, Roti, String hoppers': 100, 'Kottu, Hoppers, Rice and curry': 101, 'Kottu, Hoppers, Rice and curry, Jackfruit curry': 102, 'Kottu, Hoppers, Rice and curry, Roti, String hoppers, Jackfruit curry': 103, 'Kottu, Hoppers, String hoppers': 104, 'Kottu, Jackfruit curry': 105, 'Kottu, Jackfruit curry, Hoppers, Rice and curry, String hoppers, Roti': 106, 'Kottu, Jackfruit curry, Hoppers, Roti, String hoppers, Rice and curry': 107, 'Kottu, Jackfruit curry, Hoppers, String hoppers, Rice and curry': 108, 'Kottu, Jackfruit curry, Rice and curry, Hoppers, Roti': 109, 'Kottu, Jackfruit curry, Rice and curry, String hoppers, Hoppers': 110, 'Kottu, Jackfruit curry, String hoppers, Rice and curry, Hoppers': 111, 'Kottu, Rice and curry': 112, 'Kottu, Rice and curry, Hoppers, Jackfruit curry, String hoppers, Roti': 113, 'Kottu, Rice and curry, Hoppers, String hoppers, Roti': 114, 'Kottu, Rice and curry, Jackfruit curry, Hoppers, Roti, String hoppers': 115, 'Kottu, Rice and curry, Roti': 116, 'Kottu, Rice and curry, Roti, String hoppers, Jackfruit curry': 117, 'Kottu, Rice and curry, String hoppers, Roti, Hoppers, Jackfruit curry': 118, 'Kottu, Roti': 119, 'Kottu, Roti, Hoppers': 120, 'Kottu, Roti, Hoppers, String hoppers, Rice and curry': 121, 'Kottu, Roti, Jackfruit curry, Hoppers, Rice and curry': 122, 'Kottu, Roti, Jackfruit curry, Rice and curry': 123, 'Kottu, Roti, Jackfruit curry, String hoppers': 124, 'Kottu, Roti, Rice and curry, Jackfruit curry': 125, 'Kottu, Roti, Rice and curry, String hoppers, Jackfruit curry, Hoppers': 126, 'Kottu, Roti, String hoppers, Hoppers': 127, 'Kottu, Roti, String hoppers, Jackfruit curry': 128, 'Kottu, String hoppers, Hoppers': 129, 'Kottu, String hoppers, Hoppers, Rice and curry, Jackfruit curry, Roti': 130, 'Kottu, String hoppers, Jackfruit curry': 131, 'Kottu, String hoppers, Jackfruit curry, Rice and curry, Hoppers': 132, 'Kottu, String hoppers, Jackfruit curry, Rice and curry, Hoppers, Roti': 133, 'Kottu, String hoppers, Rice and curry, Jackfruit curry': 134, 'Kottu, String hoppers, Rice and curry, Roti': 135, 'Kottu, String hoppers, Roti, Rice and curry': 136, 'Rice and curry': 137, 'Rice and curry, Hoppers': 138, 'Rice and curry, Hoppers, Jackfruit curry, Roti': 139, 'Rice and curry, Hoppers, Kottu': 140, 'Rice and curry, Hoppers, Kottu, Jackfruit curry, String hoppers': 141, 'Rice and curry, Hoppers, Kottu, String hoppers, Roti': 142, 'Rice and curry, Hoppers, Roti': 143, 'Rice and curry, Hoppers, Roti, Jackfruit curry': 144, 'Rice and curry, Hoppers, Roti, Kottu, Jackfruit curry': 145, 'Rice and curry, Hoppers, String hoppers, Kottu': 146, 'Rice and curry, Hoppers, String hoppers, Kottu, Jackfruit curry': 147, 'Rice and curry, Jackfruit curry': 148, 'Rice and curry, Jackfruit curry, Hoppers': 149, 'Rice and curry, Jackfruit curry, Hoppers, Roti': 150, 'Rice and curry, Jackfruit curry, Hoppers, Roti, Kottu': 151, 'Rice and curry, Jackfruit curry, Hoppers, String hoppers, Roti': 152, 'Rice and curry, Jackfruit curry, Roti': 153, 'Rice and curry, Jackfruit curry, Roti, Kottu': 154, 'Rice and curry, Jackfruit curry, Roti, Kottu, Hoppers, String hoppers': 155, 'Rice and curry, Jackfruit curry, Roti, String hoppers, Hoppers, Kottu': 156, 'Rice and curry, Jackfruit curry, String hoppers': 157, 'Rice and curry, Kottu': 158, 'Rice and curry, Kottu, Hoppers': 159, 'Rice and curry, Kottu, Hoppers, Jackfruit curry, String hoppers': 160, 'Rice and curry, Kottu, Hoppers, Roti': 161, 'Rice and curry, Kottu, Hoppers, Roti, Fried Rice': 162, 'Rice and curry, Kottu, Roti, Hoppers, String hoppers, Jackfruit curry': 163, 'Rice and curry, Kottu, Roti, String hoppers, Hoppers': 164, 'Rice and curry, Kottu, String hoppers, Hoppers, Jackfruit curry': 165, 'Rice and curry, Roti': 166, 'Rice and curry, Roti, Hoppers, Jackfruit curry, Kottu, String hoppers': 167, 'Rice and curry, Roti, Hoppers, Kottu, String hoppers': 168, 'Rice and curry, Roti, Hoppers, String hoppers': 169, 'Rice and curry, Roti, Hoppers, String hoppers, Kottu': 170, 'Rice and curry, Roti, Jackfruit curry, Kottu, Hoppers': 171, 'Rice and curry, Roti, Kottu, Jackfruit curry, String hoppers': 172, 'Rice and curry, Roti, String hoppers': 173, 'Rice and curry, Roti, String hoppers, Jackfruit curry': 174, 'Rice and curry, Roti, String hoppers, Kottu': 175, 'Rice and curry, String hoppers': 176, 'Rice and curry, String hoppers, Hoppers': 177, 'Rice and curry, String hoppers, Hoppers, Roti': 178, 'Rice and curry, String hoppers, Jackfruit curry': 179, 'Rice and curry, String hoppers, Jackfruit curry, Hoppers': 180, 'Rice and curry, String hoppers, Jackfruit curry, Roti': 181, 'Rice and curry, String hoppers, Kottu': 182, 'Rice and curry, String hoppers, Kottu, Hoppers': 183, 'Rice and curry, String hoppers, Kottu, Hoppers, Jackfruit curry, Roti': 184, 'Rice and curry, String hoppers, Kottu, Hoppers, Roti': 185, 'Rice and curry, String hoppers, Kottu, Hoppers, Roti, ': 186, 'Rice and curry, String hoppers, Kottu, Hoppers, Roti, Milk rice, ': 187, 'Rice and curry, String hoppers, Kottu, Hoppers, Roti, Parota': 188, 'Rice and curry, String hoppers, Kottu, Roti': 189, 'Rice and curry, String hoppers, Roti, Hoppers, Jackfruit curry': 190, 'Rice and curry, String hoppers, Roti, Kottu': 191, 'Roti': 192, 'Roti, Hoppers': 193, 'Roti, Hoppers, Kottu': 194, 'Roti, Hoppers, Kottu, Jackfruit curry': 195, 'Roti, Hoppers, Kottu, Jackfruit curry, Rice and curry, String hoppers': 196, 'Roti, Hoppers, Kottu, Rice and curry': 197, 'Roti, Hoppers, Rice and curry, String hoppers': 198, 'Roti, Hoppers, String hoppers, Rice and curry': 199, 'Roti, Hoppers, String hoppers, Rice and curry, Jackfruit curry, Kottu': 200, 'Roti, Jackfruit curry': 201, 'Roti, Jackfruit curry, Hoppers, Kottu, Rice and curry, String hoppers': 202, 'Roti, Jackfruit curry, Kottu, Hoppers': 203, 'Roti, Jackfruit curry, Kottu, Rice and curry, Hoppers, String hoppers': 204, 'Roti, Jackfruit curry, Kottu, String hoppers': 205, 'Roti, Jackfruit curry, String hoppers': 206, 'Roti, Kottu': 207, 'Roti, Kottu, Hoppers, String hoppers': 208, 'Roti, Kottu, Jackfruit curry': 209, 'Roti, Kottu, Jackfruit curry, Hoppers': 210, 'Roti, Kottu, Jackfruit curry, Rice and curry': 211, 'Roti, Kottu, Rice and curry': 212, 'Roti, Kottu, Rice and curry, Jackfruit curry, String hoppers, Hoppers': 213, 'Roti, Kottu, String hoppers, Jackfruit curry, Rice and curry': 214, 'Roti, Rice and curry, Hoppers': 215, 'Roti, Rice and curry, Kottu': 216, 'Roti, Rice and curry, Kottu, Jackfruit curry': 217, 'Roti, Rice and curry, Kottu, Jackfruit curry, String hoppers': 218, 'Roti, Rice and curry, String hoppers, Hoppers, Jackfruit curry, Kottu': 219, 'Roti, Rice and curry, String hoppers, Jackfruit curry': 220, 'Roti, String hoppers': 221, 'Roti, String hoppers, Jackfruit curry, Hoppers': 222, 'Roti, String hoppers, Kottu, Rice and curry, Hoppers': 223, 'Roti, String hoppers, Rice and curry, Hoppers': 224, 'String hoppers': 225, 'String hoppers, Hoppers': 226, 'String hoppers, Hoppers, Jackfruit curry, Rice and curry, Kottu': 227, 'String hoppers, Hoppers, Rice and curry': 228, 'String hoppers, Hoppers, Rice and curry, Kottu, Roti': 229, 'String hoppers, Hoppers, Roti': 230, 'String hoppers, Hoppers, Roti, Jackfruit curry, Kottu': 231, 'String hoppers, Hoppers, Roti, Kottu, Rice and curry, Jackfruit curry': 232, 'String hoppers, Jackfruit curry': 233, 'String hoppers, Jackfruit curry, Hoppers': 234, 'String hoppers, Jackfruit curry, Hoppers, Kottu': 235, 'String hoppers, Jackfruit curry, Hoppers, Rice and curry, Roti, Kottu': 236, 'String hoppers, Jackfruit curry, Hoppers, Roti, Rice and curry, Kottu': 237, 'String hoppers, Jackfruit curry, Kottu, Rice and curry': 238, 'String hoppers, Jackfruit curry, Rice and curry, Hoppers, Kottu': 239, 'String hoppers, Jackfruit curry, Rice and curry, Kottu, Hoppers': 240, 'String hoppers, Jackfruit curry, Rice and curry, Roti, Kottu, Hoppers': 241, 'String hoppers, Jackfruit curry, Roti, Hoppers': 242, 'String hoppers, Jackfruit curry, Roti, Hoppers, Kottu': 243, 'String hoppers, Jackfruit curry, Roti, Rice and curry, Hoppers': 244, 'String hoppers, Kottu': 245, 'String hoppers, Kottu, Hoppers, Jackfruit curry, Rice and curry, Roti': 246, 'String hoppers, Kottu, Jackfruit curry, Rice and curry': 247, 'String hoppers, Kottu, Roti': 248, 'String hoppers, Rice and curry, Hoppers, Roti': 249, 'String hoppers, Rice and curry, Jackfruit curry, Hoppers': 250, 'String hoppers, Rice and curry, Jackfruit curry, Hoppers, Kottu': 251, 'String hoppers, Rice and curry, Jackfruit curry, Kottu': 252, 'String hoppers, Rice and curry, Roti': 253, 'String hoppers, Rice and curry, Roti, Jackfruit curry, Kottu, Hoppers': 254, 'String hoppers, Roti': 255, 'String hoppers, Roti, Hoppers, Rice and curry, Kottu, Jackfruit curry': 256, 'String hoppers, Roti, Jackfruit curry, Rice and curry': 257, 'String hoppers, Roti, Rice and curry': 258, 'String hoppers, Roti, Rice and curry, Jackfruit curry, Hoppers': 259, 'String hoppers, Roti, Rice and curry, Kottu, Hoppers': 260}\n",
      "Encoding for Diet goal: {'Better health': 0, 'I have to gain weight in a healthy way': 1, 'Improve energy levels': 2, 'Manage health conditions': 3, 'Sustainable diet': 4, 'Weight management': 5}\n",
      "Label encoders saved to label_encoders.pkl\n"
     ]
    }
   ],
   "source": [
    "import pickle\n",
    "\n",
    "# Optionally, display the mappings for each encoded column\n",
    "for col in categorical_columns:\n",
    "    print(f\"Encoding for {col}: {dict(zip(label_encoders[col].classes_, range(len(label_encoders[col].classes_))))}\")\n",
    "\n",
    "# Save label encoders to a file\n",
    "label_encoder_file_path = 'label_encoders.pkl'\n",
    "\n",
    "# Save the label_encoders dictionary\n",
    "with open(label_encoder_file_path, 'wb') as f:\n",
    "    pickle.dump(label_encoders, f)\n",
    "\n",
    "print(f\"Label encoders saved to {label_encoder_file_path}\")"
   ]
  },
  {
   "cell_type": "code",
   "execution_count": 108,
   "metadata": {
    "colab": {
     "base_uri": "https://localhost:8080/",
     "height": 278
    },
    "id": "MA32bMLAnVH7",
    "outputId": "cb8ed4a4-9065-4450-cc85-456a80148067"
   },
   "outputs": [
    {
     "data": {
      "text/html": [
       "<div>\n",
       "<style scoped>\n",
       "    .dataframe tbody tr th:only-of-type {\n",
       "        vertical-align: middle;\n",
       "    }\n",
       "\n",
       "    .dataframe tbody tr th {\n",
       "        vertical-align: top;\n",
       "    }\n",
       "\n",
       "    .dataframe thead th {\n",
       "        text-align: right;\n",
       "    }\n",
       "</style>\n",
       "<table border=\"1\" class=\"dataframe\">\n",
       "  <thead>\n",
       "    <tr style=\"text-align: right;\">\n",
       "      <th></th>\n",
       "      <th>Age</th>\n",
       "      <th>Gender</th>\n",
       "      <th>Faculty</th>\n",
       "      <th>Year of study</th>\n",
       "      <th>Sleep(night)</th>\n",
       "      <th>Exercise frequency</th>\n",
       "      <th>Frequent food</th>\n",
       "      <th>Fast food consumption frequency</th>\n",
       "      <th>Diet type</th>\n",
       "      <th>Food allergies</th>\n",
       "      <th>Weight</th>\n",
       "      <th>Height</th>\n",
       "      <th>Health conditions</th>\n",
       "      <th>Weekly spend for food</th>\n",
       "      <th>University canteen usage</th>\n",
       "      <th>Preferred Sri Lankan foods</th>\n",
       "      <th>Diet goal</th>\n",
       "      <th>Protein(g)</th>\n",
       "    </tr>\n",
       "  </thead>\n",
       "  <tbody>\n",
       "    <tr>\n",
       "      <th>0</th>\n",
       "      <td>0.75</td>\n",
       "      <td>0</td>\n",
       "      <td>2</td>\n",
       "      <td>3</td>\n",
       "      <td>1.0</td>\n",
       "      <td>3</td>\n",
       "      <td>192</td>\n",
       "      <td>0</td>\n",
       "      <td>1</td>\n",
       "      <td>5</td>\n",
       "      <td>0.135714</td>\n",
       "      <td>0.457627</td>\n",
       "      <td>4</td>\n",
       "      <td>1.000000</td>\n",
       "      <td>1</td>\n",
       "      <td>138</td>\n",
       "      <td>0</td>\n",
       "      <td>0.000000</td>\n",
       "    </tr>\n",
       "    <tr>\n",
       "      <th>1</th>\n",
       "      <td>0.75</td>\n",
       "      <td>1</td>\n",
       "      <td>2</td>\n",
       "      <td>3</td>\n",
       "      <td>0.6</td>\n",
       "      <td>0</td>\n",
       "      <td>157</td>\n",
       "      <td>2</td>\n",
       "      <td>1</td>\n",
       "      <td>13</td>\n",
       "      <td>0.707143</td>\n",
       "      <td>0.711864</td>\n",
       "      <td>6</td>\n",
       "      <td>0.636364</td>\n",
       "      <td>1</td>\n",
       "      <td>176</td>\n",
       "      <td>3</td>\n",
       "      <td>0.688889</td>\n",
       "    </tr>\n",
       "    <tr>\n",
       "      <th>2</th>\n",
       "      <td>0.75</td>\n",
       "      <td>0</td>\n",
       "      <td>3</td>\n",
       "      <td>3</td>\n",
       "      <td>0.6</td>\n",
       "      <td>3</td>\n",
       "      <td>163</td>\n",
       "      <td>0</td>\n",
       "      <td>1</td>\n",
       "      <td>13</td>\n",
       "      <td>0.278571</td>\n",
       "      <td>0.237288</td>\n",
       "      <td>4</td>\n",
       "      <td>0.272727</td>\n",
       "      <td>4</td>\n",
       "      <td>143</td>\n",
       "      <td>0</td>\n",
       "      <td>0.133333</td>\n",
       "    </tr>\n",
       "    <tr>\n",
       "      <th>3</th>\n",
       "      <td>0.75</td>\n",
       "      <td>1</td>\n",
       "      <td>3</td>\n",
       "      <td>3</td>\n",
       "      <td>1.0</td>\n",
       "      <td>0</td>\n",
       "      <td>160</td>\n",
       "      <td>0</td>\n",
       "      <td>1</td>\n",
       "      <td>13</td>\n",
       "      <td>0.278571</td>\n",
       "      <td>0.762712</td>\n",
       "      <td>8</td>\n",
       "      <td>0.636364</td>\n",
       "      <td>1</td>\n",
       "      <td>186</td>\n",
       "      <td>0</td>\n",
       "      <td>0.230556</td>\n",
       "    </tr>\n",
       "    <tr>\n",
       "      <th>4</th>\n",
       "      <td>0.75</td>\n",
       "      <td>0</td>\n",
       "      <td>3</td>\n",
       "      <td>3</td>\n",
       "      <td>0.6</td>\n",
       "      <td>3</td>\n",
       "      <td>180</td>\n",
       "      <td>3</td>\n",
       "      <td>1</td>\n",
       "      <td>13</td>\n",
       "      <td>0.135714</td>\n",
       "      <td>0.508475</td>\n",
       "      <td>8</td>\n",
       "      <td>0.636364</td>\n",
       "      <td>1</td>\n",
       "      <td>143</td>\n",
       "      <td>2</td>\n",
       "      <td>0.000000</td>\n",
       "    </tr>\n",
       "  </tbody>\n",
       "</table>\n",
       "</div>"
      ],
      "text/plain": [
       "    Age  Gender  Faculty  Year of study  Sleep(night)  Exercise frequency  \\\n",
       "0  0.75       0        2              3           1.0                   3   \n",
       "1  0.75       1        2              3           0.6                   0   \n",
       "2  0.75       0        3              3           0.6                   3   \n",
       "3  0.75       1        3              3           1.0                   0   \n",
       "4  0.75       0        3              3           0.6                   3   \n",
       "\n",
       "   Frequent food  Fast food consumption frequency  Diet type  Food allergies  \\\n",
       "0            192                                0          1               5   \n",
       "1            157                                2          1              13   \n",
       "2            163                                0          1              13   \n",
       "3            160                                0          1              13   \n",
       "4            180                                3          1              13   \n",
       "\n",
       "     Weight    Height  Health conditions  Weekly spend for food  \\\n",
       "0  0.135714  0.457627                  4               1.000000   \n",
       "1  0.707143  0.711864                  6               0.636364   \n",
       "2  0.278571  0.237288                  4               0.272727   \n",
       "3  0.278571  0.762712                  8               0.636364   \n",
       "4  0.135714  0.508475                  8               0.636364   \n",
       "\n",
       "   University canteen usage  Preferred Sri Lankan foods  Diet goal  Protein(g)  \n",
       "0                         1                         138          0    0.000000  \n",
       "1                         1                         176          3    0.688889  \n",
       "2                         4                         143          0    0.133333  \n",
       "3                         1                         186          0    0.230556  \n",
       "4                         1                         143          2    0.000000  "
      ]
     },
     "execution_count": 108,
     "metadata": {},
     "output_type": "execute_result"
    }
   ],
   "source": [
    "df.head()"
   ]
  },
  {
   "cell_type": "code",
   "execution_count": 109,
   "metadata": {
    "colab": {
     "base_uri": "https://localhost:8080/"
    },
    "id": "SsuYgyd8n6LV",
    "outputId": "7667e99e-9f86-4e75-cace-5204396fd016"
   },
   "outputs": [
    {
     "name": "stdout",
     "output_type": "stream",
     "text": [
      "User data preprocessed and saved successfully!\n"
     ]
    }
   ],
   "source": [
    "# Save the preprocessed food data to a new CSV file\n",
    "df.to_csv(\"preprocessed_dataset.csv\", index=False)\n",
    "\n",
    "print(\"User data preprocessed and saved successfully!\")\n"
   ]
  },
  {
   "cell_type": "code",
   "execution_count": 110,
   "metadata": {},
   "outputs": [
    {
     "data": {
      "text/plain": [
       "['scaler.pkl']"
      ]
     },
     "execution_count": 110,
     "metadata": {},
     "output_type": "execute_result"
    }
   ],
   "source": [
    "import joblib\n",
    "joblib.dump(scaler, 'scaler.pkl')\n"
   ]
  },
  {
   "cell_type": "markdown",
   "metadata": {
    "id": "EVk4reAgosSU"
   },
   "source": [
    "Train"
   ]
  },
  {
   "cell_type": "code",
   "execution_count": 111,
   "metadata": {},
   "outputs": [
    {
     "name": "stdout",
     "output_type": "stream",
     "text": [
      "Epoch 1/50\n"
     ]
    },
    {
     "name": "stderr",
     "output_type": "stream",
     "text": [
      "C:\\Users\\DELL\\AppData\\Local\\Programs\\Python\\Python311\\Lib\\site-packages\\keras\\src\\layers\\core\\dense.py:87: UserWarning: Do not pass an `input_shape`/`input_dim` argument to a layer. When using Sequential models, prefer using an `Input(shape)` object as the first layer in the model instead.\n",
      "  super().__init__(activity_regularizer=activity_regularizer, **kwargs)\n"
     ]
    },
    {
     "name": "stdout",
     "output_type": "stream",
     "text": [
      "\u001b[1m29/29\u001b[0m \u001b[32m━━━━━━━━━━━━━━━━━━━━\u001b[0m\u001b[37m\u001b[0m \u001b[1m1s\u001b[0m 7ms/step - loss: 121.9608 - mae: 8.5034 - val_loss: 9.8563 - val_mae: 2.7667\n",
      "Epoch 2/50\n",
      "\u001b[1m29/29\u001b[0m \u001b[32m━━━━━━━━━━━━━━━━━━━━\u001b[0m\u001b[37m\u001b[0m \u001b[1m0s\u001b[0m 4ms/step - loss: 30.6890 - mae: 4.1149 - val_loss: 1.8856 - val_mae: 1.1413\n",
      "Epoch 3/50\n",
      "\u001b[1m29/29\u001b[0m \u001b[32m━━━━━━━━━━━━━━━━━━━━\u001b[0m\u001b[37m\u001b[0m \u001b[1m0s\u001b[0m 4ms/step - loss: 13.9343 - mae: 2.8637 - val_loss: 1.4302 - val_mae: 0.9160\n",
      "Epoch 4/50\n",
      "\u001b[1m29/29\u001b[0m \u001b[32m━━━━━━━━━━━━━━━━━━━━\u001b[0m\u001b[37m\u001b[0m \u001b[1m0s\u001b[0m 4ms/step - loss: 8.7604 - mae: 2.0620 - val_loss: 0.8137 - val_mae: 0.7378\n",
      "Epoch 5/50\n",
      "\u001b[1m29/29\u001b[0m \u001b[32m━━━━━━━━━━━━━━━━━━━━\u001b[0m\u001b[37m\u001b[0m \u001b[1m0s\u001b[0m 3ms/step - loss: 5.3339 - mae: 1.6854 - val_loss: 0.4540 - val_mae: 0.5525\n",
      "Epoch 6/50\n",
      "\u001b[1m29/29\u001b[0m \u001b[32m━━━━━━━━━━━━━━━━━━━━\u001b[0m\u001b[37m\u001b[0m \u001b[1m0s\u001b[0m 4ms/step - loss: 4.2286 - mae: 1.4364 - val_loss: 0.2871 - val_mae: 0.3772\n",
      "Epoch 7/50\n",
      "\u001b[1m29/29\u001b[0m \u001b[32m━━━━━━━━━━━━━━━━━━━━\u001b[0m\u001b[37m\u001b[0m \u001b[1m0s\u001b[0m 4ms/step - loss: 2.4819 - mae: 1.0810 - val_loss: 0.1615 - val_mae: 0.2325\n",
      "Epoch 8/50\n",
      "\u001b[1m29/29\u001b[0m \u001b[32m━━━━━━━━━━━━━━━━━━━━\u001b[0m\u001b[37m\u001b[0m \u001b[1m0s\u001b[0m 3ms/step - loss: 2.4053 - mae: 1.0335 - val_loss: 0.1303 - val_mae: 0.1943\n",
      "Epoch 9/50\n",
      "\u001b[1m29/29\u001b[0m \u001b[32m━━━━━━━━━━━━━━━━━━━━\u001b[0m\u001b[37m\u001b[0m \u001b[1m0s\u001b[0m 4ms/step - loss: 1.6348 - mae: 0.8416 - val_loss: 0.0895 - val_mae: 0.1588\n",
      "Epoch 10/50\n",
      "\u001b[1m29/29\u001b[0m \u001b[32m━━━━━━━━━━━━━━━━━━━━\u001b[0m\u001b[37m\u001b[0m \u001b[1m0s\u001b[0m 4ms/step - loss: 1.5271 - mae: 0.7524 - val_loss: 0.0631 - val_mae: 0.1217\n",
      "Epoch 11/50\n",
      "\u001b[1m29/29\u001b[0m \u001b[32m━━━━━━━━━━━━━━━━━━━━\u001b[0m\u001b[37m\u001b[0m \u001b[1m0s\u001b[0m 3ms/step - loss: 1.1272 - mae: 0.6520 - val_loss: 0.0483 - val_mae: 0.0972\n",
      "Epoch 12/50\n",
      "\u001b[1m29/29\u001b[0m \u001b[32m━━━━━━━━━━━━━━━━━━━━\u001b[0m\u001b[37m\u001b[0m \u001b[1m0s\u001b[0m 3ms/step - loss: 1.0159 - mae: 0.5558 - val_loss: 0.0398 - val_mae: 0.0834\n",
      "Epoch 13/50\n",
      "\u001b[1m29/29\u001b[0m \u001b[32m━━━━━━━━━━━━━━━━━━━━\u001b[0m\u001b[37m\u001b[0m \u001b[1m0s\u001b[0m 4ms/step - loss: 0.6057 - mae: 0.4682 - val_loss: 0.0378 - val_mae: 0.0959\n",
      "Epoch 14/50\n",
      "\u001b[1m29/29\u001b[0m \u001b[32m━━━━━━━━━━━━━━━━━━━━\u001b[0m\u001b[37m\u001b[0m \u001b[1m0s\u001b[0m 4ms/step - loss: 0.4931 - mae: 0.3916 - val_loss: 0.0329 - val_mae: 0.0705\n",
      "Epoch 15/50\n",
      "\u001b[1m29/29\u001b[0m \u001b[32m━━━━━━━━━━━━━━━━━━━━\u001b[0m\u001b[37m\u001b[0m \u001b[1m0s\u001b[0m 4ms/step - loss: 0.4194 - mae: 0.3602 - val_loss: 0.0319 - val_mae: 0.0718\n",
      "Epoch 16/50\n",
      "\u001b[1m29/29\u001b[0m \u001b[32m━━━━━━━━━━━━━━━━━━━━\u001b[0m\u001b[37m\u001b[0m \u001b[1m0s\u001b[0m 4ms/step - loss: 0.3848 - mae: 0.3441 - val_loss: 0.0312 - val_mae: 0.0678\n",
      "Epoch 17/50\n",
      "\u001b[1m29/29\u001b[0m \u001b[32m━━━━━━━━━━━━━━━━━━━━\u001b[0m\u001b[37m\u001b[0m \u001b[1m0s\u001b[0m 4ms/step - loss: 0.5512 - mae: 0.3744 - val_loss: 0.0301 - val_mae: 0.0603\n",
      "Epoch 18/50\n",
      "\u001b[1m29/29\u001b[0m \u001b[32m━━━━━━━━━━━━━━━━━━━━\u001b[0m\u001b[37m\u001b[0m \u001b[1m0s\u001b[0m 3ms/step - loss: 0.2981 - mae: 0.2948 - val_loss: 0.0296 - val_mae: 0.0597\n",
      "Epoch 19/50\n",
      "\u001b[1m29/29\u001b[0m \u001b[32m━━━━━━━━━━━━━━━━━━━━\u001b[0m\u001b[37m\u001b[0m \u001b[1m0s\u001b[0m 3ms/step - loss: 0.3160 - mae: 0.2464 - val_loss: 0.0291 - val_mae: 0.0570\n",
      "Epoch 20/50\n",
      "\u001b[1m29/29\u001b[0m \u001b[32m━━━━━━━━━━━━━━━━━━━━\u001b[0m\u001b[37m\u001b[0m \u001b[1m0s\u001b[0m 3ms/step - loss: 0.3039 - mae: 0.2626 - val_loss: 0.0289 - val_mae: 0.0553\n",
      "Epoch 21/50\n",
      "\u001b[1m29/29\u001b[0m \u001b[32m━━━━━━━━━━━━━━━━━━━━\u001b[0m\u001b[37m\u001b[0m \u001b[1m0s\u001b[0m 3ms/step - loss: 0.2720 - mae: 0.2502 - val_loss: 0.0288 - val_mae: 0.0541\n",
      "Epoch 22/50\n",
      "\u001b[1m29/29\u001b[0m \u001b[32m━━━━━━━━━━━━━━━━━━━━\u001b[0m\u001b[37m\u001b[0m \u001b[1m0s\u001b[0m 3ms/step - loss: 0.2185 - mae: 0.2278 - val_loss: 0.0291 - val_mae: 0.0563\n",
      "Epoch 23/50\n",
      "\u001b[1m29/29\u001b[0m \u001b[32m━━━━━━━━━━━━━━━━━━━━\u001b[0m\u001b[37m\u001b[0m \u001b[1m0s\u001b[0m 4ms/step - loss: 0.2343 - mae: 0.2099 - val_loss: 0.0289 - val_mae: 0.0539\n",
      "Epoch 24/50\n",
      "\u001b[1m29/29\u001b[0m \u001b[32m━━━━━━━━━━━━━━━━━━━━\u001b[0m\u001b[37m\u001b[0m \u001b[1m0s\u001b[0m 4ms/step - loss: 0.1860 - mae: 0.2121 - val_loss: 0.0290 - val_mae: 0.0534\n",
      "Epoch 25/50\n",
      "\u001b[1m29/29\u001b[0m \u001b[32m━━━━━━━━━━━━━━━━━━━━\u001b[0m\u001b[37m\u001b[0m \u001b[1m0s\u001b[0m 4ms/step - loss: 0.1845 - mae: 0.1892 - val_loss: 0.0286 - val_mae: 0.0521\n",
      "Epoch 26/50\n",
      "\u001b[1m29/29\u001b[0m \u001b[32m━━━━━━━━━━━━━━━━━━━━\u001b[0m\u001b[37m\u001b[0m \u001b[1m0s\u001b[0m 4ms/step - loss: 0.1365 - mae: 0.1710 - val_loss: 0.0284 - val_mae: 0.0503\n",
      "Epoch 27/50\n",
      "\u001b[1m29/29\u001b[0m \u001b[32m━━━━━━━━━━━━━━━━━━━━\u001b[0m\u001b[37m\u001b[0m \u001b[1m0s\u001b[0m 4ms/step - loss: 0.1399 - mae: 0.1451 - val_loss: 0.0283 - val_mae: 0.0495\n",
      "Epoch 28/50\n",
      "\u001b[1m29/29\u001b[0m \u001b[32m━━━━━━━━━━━━━━━━━━━━\u001b[0m\u001b[37m\u001b[0m \u001b[1m0s\u001b[0m 2ms/step - loss: 0.1235 - mae: 0.1648 - val_loss: 0.0283 - val_mae: 0.0499\n",
      "Epoch 29/50\n",
      "\u001b[1m29/29\u001b[0m \u001b[32m━━━━━━━━━━━━━━━━━━━━\u001b[0m\u001b[37m\u001b[0m \u001b[1m0s\u001b[0m 4ms/step - loss: 0.2648 - mae: 0.1911 - val_loss: 0.0282 - val_mae: 0.0490\n",
      "Epoch 30/50\n",
      "\u001b[1m29/29\u001b[0m \u001b[32m━━━━━━━━━━━━━━━━━━━━\u001b[0m\u001b[37m\u001b[0m \u001b[1m0s\u001b[0m 3ms/step - loss: 0.0669 - mae: 0.1176 - val_loss: 0.0281 - val_mae: 0.0471\n",
      "Epoch 31/50\n",
      "\u001b[1m29/29\u001b[0m \u001b[32m━━━━━━━━━━━━━━━━━━━━\u001b[0m\u001b[37m\u001b[0m \u001b[1m0s\u001b[0m 3ms/step - loss: 0.1305 - mae: 0.1492 - val_loss: 0.0279 - val_mae: 0.0457\n",
      "Epoch 32/50\n",
      "\u001b[1m29/29\u001b[0m \u001b[32m━━━━━━━━━━━━━━━━━━━━\u001b[0m\u001b[37m\u001b[0m \u001b[1m0s\u001b[0m 2ms/step - loss: 0.0705 - mae: 0.1044 - val_loss: 0.0279 - val_mae: 0.0452\n",
      "Epoch 33/50\n",
      "\u001b[1m29/29\u001b[0m \u001b[32m━━━━━━━━━━━━━━━━━━━━\u001b[0m\u001b[37m\u001b[0m \u001b[1m0s\u001b[0m 3ms/step - loss: 0.0641 - mae: 0.0969 - val_loss: 0.0278 - val_mae: 0.0441\n",
      "Epoch 34/50\n",
      "\u001b[1m29/29\u001b[0m \u001b[32m━━━━━━━━━━━━━━━━━━━━\u001b[0m\u001b[37m\u001b[0m \u001b[1m0s\u001b[0m 3ms/step - loss: 0.1028 - mae: 0.1105 - val_loss: 0.0277 - val_mae: 0.0426\n",
      "Epoch 35/50\n",
      "\u001b[1m29/29\u001b[0m \u001b[32m━━━━━━━━━━━━━━━━━━━━\u001b[0m\u001b[37m\u001b[0m \u001b[1m0s\u001b[0m 3ms/step - loss: 0.0939 - mae: 0.1056 - val_loss: 0.0275 - val_mae: 0.0414\n",
      "Epoch 36/50\n",
      "\u001b[1m29/29\u001b[0m \u001b[32m━━━━━━━━━━━━━━━━━━━━\u001b[0m\u001b[37m\u001b[0m \u001b[1m0s\u001b[0m 2ms/step - loss: 0.0854 - mae: 0.0903 - val_loss: 0.0274 - val_mae: 0.0397\n",
      "Epoch 37/50\n",
      "\u001b[1m29/29\u001b[0m \u001b[32m━━━━━━━━━━━━━━━━━━━━\u001b[0m\u001b[37m\u001b[0m \u001b[1m0s\u001b[0m 2ms/step - loss: 0.0516 - mae: 0.0738 - val_loss: 0.0273 - val_mae: 0.0384\n",
      "Epoch 38/50\n",
      "\u001b[1m29/29\u001b[0m \u001b[32m━━━━━━━━━━━━━━━━━━━━\u001b[0m\u001b[37m\u001b[0m \u001b[1m0s\u001b[0m 3ms/step - loss: 0.1009 - mae: 0.0858 - val_loss: 0.0272 - val_mae: 0.0373\n",
      "Epoch 39/50\n",
      "\u001b[1m29/29\u001b[0m \u001b[32m━━━━━━━━━━━━━━━━━━━━\u001b[0m\u001b[37m\u001b[0m \u001b[1m0s\u001b[0m 3ms/step - loss: 0.0435 - mae: 0.0693 - val_loss: 0.0271 - val_mae: 0.0358\n",
      "Epoch 40/50\n",
      "\u001b[1m29/29\u001b[0m \u001b[32m━━━━━━━━━━━━━━━━━━━━\u001b[0m\u001b[37m\u001b[0m \u001b[1m0s\u001b[0m 4ms/step - loss: 0.0604 - mae: 0.0821 - val_loss: 0.0271 - val_mae: 0.0360\n",
      "Epoch 41/50\n",
      "\u001b[1m29/29\u001b[0m \u001b[32m━━━━━━━━━━━━━━━━━━━━\u001b[0m\u001b[37m\u001b[0m \u001b[1m0s\u001b[0m 4ms/step - loss: 0.1054 - mae: 0.1066 - val_loss: 0.0271 - val_mae: 0.0353\n",
      "Epoch 42/50\n",
      "\u001b[1m29/29\u001b[0m \u001b[32m━━━━━━━━━━━━━━━━━━━━\u001b[0m\u001b[37m\u001b[0m \u001b[1m0s\u001b[0m 3ms/step - loss: 0.0749 - mae: 0.0792 - val_loss: 0.0270 - val_mae: 0.0336\n",
      "Epoch 43/50\n",
      "\u001b[1m29/29\u001b[0m \u001b[32m━━━━━━━━━━━━━━━━━━━━\u001b[0m\u001b[37m\u001b[0m \u001b[1m0s\u001b[0m 3ms/step - loss: 0.1151 - mae: 0.0832 - val_loss: 0.0269 - val_mae: 0.0321\n",
      "Epoch 44/50\n",
      "\u001b[1m29/29\u001b[0m \u001b[32m━━━━━━━━━━━━━━━━━━━━\u001b[0m\u001b[37m\u001b[0m \u001b[1m0s\u001b[0m 3ms/step - loss: 0.0567 - mae: 0.0681 - val_loss: 0.0268 - val_mae: 0.0316\n",
      "Epoch 45/50\n",
      "\u001b[1m29/29\u001b[0m \u001b[32m━━━━━━━━━━━━━━━━━━━━\u001b[0m\u001b[37m\u001b[0m \u001b[1m0s\u001b[0m 3ms/step - loss: 0.0371 - mae: 0.0605 - val_loss: 0.0268 - val_mae: 0.0307\n",
      "Epoch 46/50\n",
      "\u001b[1m29/29\u001b[0m \u001b[32m━━━━━━━━━━━━━━━━━━━━\u001b[0m\u001b[37m\u001b[0m \u001b[1m0s\u001b[0m 3ms/step - loss: 0.0430 - mae: 0.0559 - val_loss: 0.0267 - val_mae: 0.0297\n",
      "Epoch 47/50\n",
      "\u001b[1m29/29\u001b[0m \u001b[32m━━━━━━━━━━━━━━━━━━━━\u001b[0m\u001b[37m\u001b[0m \u001b[1m0s\u001b[0m 4ms/step - loss: 0.0377 - mae: 0.0535 - val_loss: 0.0266 - val_mae: 0.0281\n",
      "Epoch 48/50\n",
      "\u001b[1m29/29\u001b[0m \u001b[32m━━━━━━━━━━━━━━━━━━━━\u001b[0m\u001b[37m\u001b[0m \u001b[1m0s\u001b[0m 4ms/step - loss: 0.0310 - mae: 0.0417 - val_loss: 0.0266 - val_mae: 0.0274\n",
      "Epoch 49/50\n",
      "\u001b[1m29/29\u001b[0m \u001b[32m━━━━━━━━━━━━━━━━━━━━\u001b[0m\u001b[37m\u001b[0m \u001b[1m0s\u001b[0m 3ms/step - loss: 0.0305 - mae: 0.0448 - val_loss: 0.0265 - val_mae: 0.0275\n",
      "Epoch 50/50\n",
      "\u001b[1m29/29\u001b[0m \u001b[32m━━━━━━━━━━━━━━━━━━━━\u001b[0m\u001b[37m\u001b[0m \u001b[1m0s\u001b[0m 3ms/step - loss: 0.0313 - mae: 0.0451 - val_loss: 0.0265 - val_mae: 0.0273\n",
      "\u001b[1m4/4\u001b[0m \u001b[32m━━━━━━━━━━━━━━━━━━━━\u001b[0m\u001b[37m\u001b[0m \u001b[1m0s\u001b[0m 5ms/step - loss: 0.0231 - mae: 0.0239       \n",
      "Test Loss (MSE): 0.026508741080760956\n",
      "Test MAE: 0.02727758325636387\n"
     ]
    }
   ],
   "source": [
    "import pandas as pd\n",
    "import numpy as np\n",
    "from sklearn.model_selection import train_test_split\n",
    "from sklearn.preprocessing import LabelEncoder\n",
    "from tensorflow.keras.models import Sequential\n",
    "from tensorflow.keras.layers import Dense, Dropout\n",
    "from tensorflow.keras.utils import to_categorical\n",
    "\n",
    "# Separate features (X) and target (y)\n",
    "X = df.drop('Protein(g)', axis=1)  # Replace 'target_column' with your target variable\n",
    "y = df['Protein(g)']\n",
    "\n",
    "# Split data into training and testing sets\n",
    "X_train, X_test, y_train, y_test = train_test_split(X, y, test_size=0.2, random_state=42)\n",
    "\n",
    "# Ensure the target variable is in integer format\n",
    "y_train = y_train.astype(np.int32)\n",
    "y_test = y_test.astype(np.int32)\n",
    "\n",
    "\n",
    "# Define the neural network model for regression (linear output)\n",
    "model = Sequential([\n",
    "    Dense(128, input_dim=X_train.shape[1], activation='relu'),  # Input layer\n",
    "    Dropout(0.2),  # Dropout for regularization\n",
    "    Dense(64, activation='relu'),  # Hidden layer\n",
    "    Dropout(0.2),\n",
    "    Dense(1, activation='linear')  # Output layer for regression with linear activation\n",
    "])\n",
    "\n",
    "# Compile the model\n",
    "model.compile(optimizer='adam',\n",
    "              loss='mean_squared_error',  # Loss function for regression\n",
    "              metrics=['mae'])  # Mean Absolute Error metric for regression\n",
    "\n",
    "# Train the model\n",
    "history = model.fit(X_train, y_train,\n",
    "                    epochs=50,\n",
    "                    batch_size=16,\n",
    "                    validation_data=(X_test, y_test))\n",
    "\n",
    "# Evaluate the model\n",
    "loss, mae = model.evaluate(X_test, y_test)\n",
    "print(f\"Test Loss (MSE): {loss}\")\n",
    "print(f\"Test MAE: {mae}\")\n"
   ]
  },
  {
   "cell_type": "code",
   "execution_count": 112,
   "metadata": {},
   "outputs": [
    {
     "name": "stderr",
     "output_type": "stream",
     "text": [
      "WARNING:absl:You are saving your model as an HDF5 file via `model.save()` or `keras.saving.save_model(model)`. This file format is considered legacy. We recommend using instead the native Keras format, e.g. `model.save('my_model.keras')` or `keras.saving.save_model(model, 'my_model.keras')`. \n"
     ]
    }
   ],
   "source": [
    "model.save('protein(g)_predictor_model.h5')"
   ]
  },
  {
   "cell_type": "code",
   "execution_count": null,
   "metadata": {},
   "outputs": [],
   "source": []
  }
 ],
 "metadata": {
  "colab": {
   "provenance": []
  },
  "kernelspec": {
   "display_name": "Python 3 (ipykernel)",
   "language": "python",
   "name": "python3"
  },
  "language_info": {
   "codemirror_mode": {
    "name": "ipython",
    "version": 3
   },
   "file_extension": ".py",
   "mimetype": "text/x-python",
   "name": "python",
   "nbconvert_exporter": "python",
   "pygments_lexer": "ipython3",
   "version": "3.11.9"
  }
 },
 "nbformat": 4,
 "nbformat_minor": 4
}
