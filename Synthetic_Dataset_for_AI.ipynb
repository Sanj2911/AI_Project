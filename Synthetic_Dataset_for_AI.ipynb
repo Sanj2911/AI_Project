{
  "cells": [
    {
      "cell_type": "code",
      "source": [
        "import pandas as pd\n",
        "import random\n",
        "import datetime\n",
        "\n",
        "# Define the distributions based on example data\n",
        "genders = ['Male', 'Female']\n",
        "faculties = ['FAS', 'FLFN', 'FAPM', 'FOT', 'BSF','FOM']\n",
        "years_of_study = ['1st year', '2nd year', '3rd year', '4th year', 'Postgraduate']\n",
        "sleep_hours = ['Less than 5 hours', '5-6 hours', '6-8 hours', 'More than 8 hours']\n",
        "exercise_frequencies = ['Never', 'Rarely', '1-2 times per week', '3-4 times per week', 'Daily']\n",
        "smoke_alcohol = ['Yes', 'No', 'Occasionally']\n",
        "main_meals = [2, 3]\n",
        "snacks = ['Yes', 'No']\n",
        "food_types = ['Traditional Sri Lankan food', 'Fast food', 'Processed foods', 'Fruits and vegetables', 'Rice and curry']\n",
        "fast_food_frequency = ['Once a week', '2-3 times a week', 'Weekly', 'Never', 'Daily']\n",
        "specific_diets = ['No specific diet', 'Vegetarian/Vegan meals', 'Low-carb diet']\n",
        "food_allergies = ['None', 'Gluten', 'Lactose', 'Seafood', 'Dryfish']\n",
        "weight_range = ['40 - 49 kg', '50 - 59 kg', '60 - 69 kg', '70 - 79 kg', '80 - 89 kg']\n",
        "health_conditions = ['None', 'Gastritis', 'High cholesterol', 'Gallstones']\n",
        "health_status = ['Healthy', 'Average', 'Very Healthy']\n",
        "medications = ['Yes', 'No']\n",
        "symptoms = ['None', 'Stomach pain', 'Bloating', 'Fatigue', 'Constipation']\n",
        "weekly_spend_range = ['Less than 1,000 LKR', '1,000 - 2,000 LKR', '2,000 - 3,000 LKR', 'More than 3,000 LKR']\n",
        "canteen_usage = ['Daily', 'Occasionally', 'Rarely/Never']\n",
        "willingness = ['Very willing', 'Somewhat willing', 'Neutral']\n",
        "preferred_foods = ['Rice and curry', 'Hoppers', 'Roti', 'String hoppers', 'Kottu', 'Jackfruit curry']\n",
        "nutrition_knowledge = ['Neutral', 'Somewhat familiar', 'Very familiar']\n",
        "recommendation_method = ['Mobile app notifications', 'Weekly diet plans', 'Email']\n",
        "goals = ['Better health', 'Manage health conditions', 'Weight management', 'Sustainable diet']\n",
        "heights = [150, 157, 160, 165, 172, 175]\n",
        "\n",
        "# Number of synthetic data points to generate\n",
        "num_samples = 200\n",
        "\n",
        "# Initialize list to store synthetic data\n",
        "synthetic_data = []\n",
        "\n",
        "for _ in range(num_samples):\n",
        "    # Generate Timestamp (random date after 4/12/2024)\n",
        "    timestamp = datetime.datetime(2024, 12, 5, random.randint(0, 23), random.randint(0, 59), random.randint(0, 59))\n",
        "\n",
        "    # Randomly select values for categorical columns\n",
        "    gender = random.choice(genders)\n",
        "    faculty = random.choice(faculties)\n",
        "    year_of_study = random.choice(years_of_study)\n",
        "    sleep = random.choice(sleep_hours)\n",
        "    exercise = random.choice(exercise_frequencies)\n",
        "    smoke_alcohol_choice = random.choice(smoke_alcohol)\n",
        "    main_meals_count = random.choice(main_meals)\n",
        "    snack = random.choice(snacks)\n",
        "    food_type = ', '.join(random.sample(food_types, random.randint(1, len(food_types))))\n",
        "    fast_food = random.choice(fast_food_frequency)\n",
        "    diet = random.choice(specific_diets)\n",
        "    allergies = random.choice(food_allergies)\n",
        "    weight = random.choice(weight_range)\n",
        "    health_condition = random.choice(health_conditions)\n",
        "    health_rating = random.choice(health_status)\n",
        "    medication = random.choice(medications)\n",
        "    symptom = random.choice(symptoms)\n",
        "    weekly_spend = random.choice(weekly_spend_range)\n",
        "    canteen = random.choice(canteen_usage)\n",
        "    food_willingness = random.choice(willingness)\n",
        "    preferred_food = ', '.join(random.sample(preferred_foods, random.randint(1, len(preferred_foods))))\n",
        "    nutrition_knowledge_choice = random.choice(nutrition_knowledge)\n",
        "    recommendation = random.choice(recommendation_method)\n",
        "    goal = random.choice(goals)\n",
        "    height = random.choice(heights)\n",
        "\n",
        "    # Create a synthetic sample\n",
        "    sample = {\n",
        "        \"Timestamp\": timestamp.strftime(\"%d/%m/%Y %H:%M:%S\"),\n",
        "        \"What is your age?\": random.choice(['18-20', '21-23', '24-26']),\n",
        "        \"What is your gender?\": gender,\n",
        "        \"What is your faculty?\": faculty,\n",
        "        \"What year of study are you in?\": year_of_study,\n",
        "        \"How many hours of sleep do you get on average per night?\": sleep,\n",
        "        \"How often do you exercise or engage in physical activities?\": exercise,\n",
        "        \"Do you smoke or consume alcohol?\": smoke_alcohol_choice,\n",
        "        \"How many main meals do you eat per day?\": main_meals_count,\n",
        "        \"Do you regularly snack between meals?\": snack,\n",
        "        \"What types of food do you usually eat? (Select all that apply)\": food_type,\n",
        "        \"How often do you eat fast food?\": fast_food,\n",
        "        \"Do you follow any specific diet?\": diet,\n",
        "        \"Do you have any food allergies or intolerances? (Select all that apply)\": allergies,\n",
        "        \"Mention if you have any food restrictions\": \"\",\n",
        "        \"What is your current weight?\": weight,\n",
        "        \"Do you have any known health conditions that affect your diet? (Select all that apply)\": health_condition,\n",
        "        \"How would you rate your current health status?\": health_rating,\n",
        "        \"Mention if you currently take any medications that affect your diet?\": medication,\n",
        "        \"Have you experienced any of the following symptoms recently? (Select all that apply)\": symptom,\n",
        "        \"How much money do you spend on food per week?\": weekly_spend,\n",
        "        \"How often do you eat at university canteens?\": canteen,\n",
        "        \"How willing are you to try new foods?\": food_willingness,\n",
        "        \"Which Sri Lankan foods do you prefer? (Select all that apply)\": preferred_food,\n",
        "        \"How familiar are you with basic nutrition concepts (e.g., calories, proteins, carbs)?\": nutrition_knowledge_choice,\n",
        "        \"How would you prefer to receive personalized diet recommendations?\": recommendation,\n",
        "        \"What is your main goal for using the diet recommendation system?\": goal,\n",
        "        \"What is your height (cm) ?\": height\n",
        "    }\n",
        "\n",
        "    # Add the sample to the list\n",
        "    synthetic_data.append(sample)\n",
        "\n",
        "# Create a DataFrame\n",
        "df_synthetic = pd.DataFrame(synthetic_data)\n",
        "\n",
        "# Save to an Excel file\n",
        "df_synthetic.to_excel(\"/mnt/data/synthetic_student_diet_data.xlsx\", index=False)\n",
        "\n",
        "\"/mnt/data/synthetic_student_diet_data.xlsx\"\n"
      ],
      "metadata": {
        "colab": {
          "base_uri": "https://localhost:8080/",
          "height": 36
        },
        "id": "MCvQGiNQezM2",
        "outputId": "94b84c11-91a0-4d8f-c187-8b52c3f9bfb8"
      },
      "execution_count": null,
      "outputs": [
        {
          "output_type": "execute_result",
          "data": {
            "text/plain": [
              "'/mnt/data/synthetic_student_diet_data.xlsx'"
            ],
            "application/vnd.google.colaboratory.intrinsic+json": {
              "type": "string"
            }
          },
          "metadata": {},
          "execution_count": 4
        }
      ]
    },
    {
      "cell_type": "code",
      "source": [
        "from google.colab import files\n",
        "files.download(\"/mnt/data/synthetic_student_diet_data.xlsx\")\n"
      ],
      "metadata": {
        "colab": {
          "base_uri": "https://localhost:8080/",
          "height": 17
        },
        "id": "ikTYkqlzfcqQ",
        "outputId": "fbc6efb4-054c-47c7-9d92-6bf001f0b413"
      },
      "execution_count": null,
      "outputs": [
        {
          "output_type": "display_data",
          "data": {
            "text/plain": [
              "<IPython.core.display.Javascript object>"
            ],
            "application/javascript": [
              "\n",
              "    async function download(id, filename, size) {\n",
              "      if (!google.colab.kernel.accessAllowed) {\n",
              "        return;\n",
              "      }\n",
              "      const div = document.createElement('div');\n",
              "      const label = document.createElement('label');\n",
              "      label.textContent = `Downloading \"${filename}\": `;\n",
              "      div.appendChild(label);\n",
              "      const progress = document.createElement('progress');\n",
              "      progress.max = size;\n",
              "      div.appendChild(progress);\n",
              "      document.body.appendChild(div);\n",
              "\n",
              "      const buffers = [];\n",
              "      let downloaded = 0;\n",
              "\n",
              "      const channel = await google.colab.kernel.comms.open(id);\n",
              "      // Send a message to notify the kernel that we're ready.\n",
              "      channel.send({})\n",
              "\n",
              "      for await (const message of channel.messages) {\n",
              "        // Send a message to notify the kernel that we're ready.\n",
              "        channel.send({})\n",
              "        if (message.buffers) {\n",
              "          for (const buffer of message.buffers) {\n",
              "            buffers.push(buffer);\n",
              "            downloaded += buffer.byteLength;\n",
              "            progress.value = downloaded;\n",
              "          }\n",
              "        }\n",
              "      }\n",
              "      const blob = new Blob(buffers, {type: 'application/binary'});\n",
              "      const a = document.createElement('a');\n",
              "      a.href = window.URL.createObjectURL(blob);\n",
              "      a.download = filename;\n",
              "      div.appendChild(a);\n",
              "      a.click();\n",
              "      div.remove();\n",
              "    }\n",
              "  "
            ]
          },
          "metadata": {}
        },
        {
          "output_type": "display_data",
          "data": {
            "text/plain": [
              "<IPython.core.display.Javascript object>"
            ],
            "application/javascript": [
              "download(\"download_4a85ddee-4100-4d33-a7de-ffdb2257f3f2\", \"synthetic_student_diet_data.xlsx\", 32111)"
            ]
          },
          "metadata": {}
        }
      ]
    },
    {
      "cell_type": "code",
      "source": [],
      "metadata": {
        "id": "0KKg41ZsfdGV"
      },
      "execution_count": null,
      "outputs": []
    }
  ],
  "metadata": {
    "colab": {
      "provenance": []
    },
    "kernelspec": {
      "display_name": "Python 3",
      "name": "python3"
    },
    "language_info": {
      "name": "python"
    }
  },
  "nbformat": 4,
  "nbformat_minor": 0
}