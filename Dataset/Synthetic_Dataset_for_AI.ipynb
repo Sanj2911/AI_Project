{
  "cells": [
    {
      "cell_type": "code",
      "source": [
        "import pandas as pd\n",
        "import random\n",
        "import datetime\n",
        "\n",
        "# Define the distributions\n",
        "age = ['18-20', '21-23', '24-26']\n",
        "genders = ['Male', 'Female']\n",
        "faculties = ['FAS', 'FLFN', 'FAPM', 'FOT', 'BSF', 'FOM']\n",
        "years_of_study = ['1st year', '2nd year', '3rd year', '4th year', 'Postgraduate']\n",
        "sleep_hours = ['Less than 5 hours', '5-6 hours', '6-8 hours', 'More than 8 hours']\n",
        "exercise_frequencies = ['Never', 'Rarely', '1-2 times per week', '3-4 times per week', 'Daily']\n",
        "food_types = ['Traditional Sri Lankan food', 'Fast food', 'Processed foods', 'Fruits and vegetables', 'Rice and curry']\n",
        "fast_food_frequency = ['Once a week', '2-3 times a week', 'Weekly', 'Never', 'Daily']\n",
        "specific_diets = ['No specific diet', 'Vegetarian/Vegan meals', 'Low-carb diet']\n",
        "food_allergies = ['None', 'Gluten', 'Lactose', 'Seafood', 'Dryfish']\n",
        "weight_range = ['40 - 49 kg', '50 - 59 kg', '60 - 69 kg', '70 - 79 kg', '80 - 89 kg']\n",
        "heights = [150, 157, 160, 165, 172, 175]\n",
        "health_conditions = ['None', 'Gastritis', 'High cholesterol', 'Gallstones']\n",
        "weekly_spend_range = ['Less than 1,000 LKR', '1,000 - 2,000 LKR', '2,000 - 3,000 LKR', 'More than 3,000 LKR']\n",
        "canteen_usage = ['Daily', 'Occasionally', 'Rarely/Never']\n",
        "preferred_foods = ['Rice and curry', 'Hoppers', 'Roti', 'String hoppers', 'Kottu', 'Jackfruit curry']\n",
        "goals = ['Better health', 'Manage health conditions', 'Weight management', 'Sustainable diet']\n",
        "\n",
        "# Number of synthetic data points\n",
        "num_samples = 350\n",
        "\n",
        "# Generate synthetic data\n",
        "synthetic_data = []\n",
        "\n",
        "for _ in range(num_samples):\n",
        "    timestamp = datetime.datetime(2024, 12, 5, random.randint(0, 23), random.randint(0, 59), random.randint(0, 59))\n",
        "    sample = {\n",
        "        \"Timestamp\": timestamp.strftime(\"%d/%m/%Y %H:%M:%S\"),\n",
        "        \"What is your age?\": random.choice(age),\n",
        "        \"What is your gender?\": random.choice(genders),\n",
        "        \"What is your faculty?\": random.choice(faculties),\n",
        "        \"What year of study are you in?\": random.choice(years_of_study),\n",
        "        \"How many hours of sleep do you get on average per night?\": random.choice(sleep_hours),\n",
        "        \"How often do you exercise or engage in physical activities?\": random.choice(exercise_frequencies),\n",
        "        \"What types of food do you usually eat? (Select all that apply)\": ', '.join(random.sample(food_types, random.randint(1, len(food_types)))),\n",
        "        \"How often do you eat fast food?\": random.choice(fast_food_frequency),\n",
        "        \"Do you follow any specific diet?\": random.choice(specific_diets),\n",
        "        \"Do you have any food allergies or intolerances? (Select all that apply)\": random.choice(food_allergies),\n",
        "        \"What is your weight?\": random.choice(weight_range),\n",
        "        \"What is your height (cm)?\": random.choice(heights),\n",
        "        \"Do you have any known health conditions that affect your diet?\": random.choice(health_conditions),\n",
        "        \"How much money do you spend on food per week?\": random.choice(weekly_spend_range),\n",
        "        \"How often do you eat at university canteens?\": random.choice(canteen_usage),\n",
        "        \"Which Sri Lankan foods do you prefer? (Select all that apply)\": ', '.join(random.sample(preferred_foods, random.randint(1, len(preferred_foods)))),\n",
        "        \"What is your main goal for using the diet recommendation system?\": random.choice(goals),\n",
        "    }\n",
        "    synthetic_data.append(sample)\n",
        "\n",
        "# Convert to DataFrame\n",
        "df_synthetic = pd.DataFrame(synthetic_data)\n",
        "\n",
        "# Save to Excel\n",
        "df_synthetic.to_excel(\"synthetic_student_diet_data.xlsx\", index=False)\n",
        "\n",
        "print(\"Synthetic data created and saved successfully.\")\n"
      ],
      "metadata": {
        "colab": {
          "base_uri": "https://localhost:8080/"
        },
        "id": "YfCTtE3_2t7u",
        "outputId": "e821d17f-4029-4ba4-a167-7e2f4329bc82"
      },
      "execution_count": 1,
      "outputs": [
        {
          "output_type": "stream",
          "name": "stdout",
          "text": [
            "Synthetic data created and saved successfully.\n"
          ]
        }
      ]
    },
    {
      "cell_type": "code",
      "source": [],
      "metadata": {
        "id": "bbAdZjne2tm3"
      },
      "execution_count": null,
      "outputs": []
    },
    {
      "cell_type": "code",
      "source": [
        "from google.colab import files\n",
        "files.download(\"synthetic_student_diet_data.xlsx\")\n"
      ],
      "metadata": {
        "colab": {
          "base_uri": "https://localhost:8080/",
          "height": 17
        },
        "id": "ikTYkqlzfcqQ",
        "outputId": "36eb8e04-eead-4e09-fbc4-ec4145934329"
      },
      "execution_count": 2,
      "outputs": [
        {
          "output_type": "display_data",
          "data": {
            "text/plain": [
              "<IPython.core.display.Javascript object>"
            ],
            "application/javascript": [
              "\n",
              "    async function download(id, filename, size) {\n",
              "      if (!google.colab.kernel.accessAllowed) {\n",
              "        return;\n",
              "      }\n",
              "      const div = document.createElement('div');\n",
              "      const label = document.createElement('label');\n",
              "      label.textContent = `Downloading \"${filename}\": `;\n",
              "      div.appendChild(label);\n",
              "      const progress = document.createElement('progress');\n",
              "      progress.max = size;\n",
              "      div.appendChild(progress);\n",
              "      document.body.appendChild(div);\n",
              "\n",
              "      const buffers = [];\n",
              "      let downloaded = 0;\n",
              "\n",
              "      const channel = await google.colab.kernel.comms.open(id);\n",
              "      // Send a message to notify the kernel that we're ready.\n",
              "      channel.send({})\n",
              "\n",
              "      for await (const message of channel.messages) {\n",
              "        // Send a message to notify the kernel that we're ready.\n",
              "        channel.send({})\n",
              "        if (message.buffers) {\n",
              "          for (const buffer of message.buffers) {\n",
              "            buffers.push(buffer);\n",
              "            downloaded += buffer.byteLength;\n",
              "            progress.value = downloaded;\n",
              "          }\n",
              "        }\n",
              "      }\n",
              "      const blob = new Blob(buffers, {type: 'application/binary'});\n",
              "      const a = document.createElement('a');\n",
              "      a.href = window.URL.createObjectURL(blob);\n",
              "      a.download = filename;\n",
              "      div.appendChild(a);\n",
              "      a.click();\n",
              "      div.remove();\n",
              "    }\n",
              "  "
            ]
          },
          "metadata": {}
        },
        {
          "output_type": "display_data",
          "data": {
            "text/plain": [
              "<IPython.core.display.Javascript object>"
            ],
            "application/javascript": [
              "download(\"download_3b9e88a2-79cd-411e-a2a5-f8ddf0bee7c6\", \"synthetic_student_diet_data.xlsx\", 36428)"
            ]
          },
          "metadata": {}
        }
      ]
    },
    {
      "cell_type": "code",
      "source": [],
      "metadata": {
        "id": "0KKg41ZsfdGV"
      },
      "execution_count": null,
      "outputs": []
    }
  ],
  "metadata": {
    "colab": {
      "provenance": []
    },
    "kernelspec": {
      "display_name": "Python 3",
      "name": "python3"
    },
    "language_info": {
      "name": "python"
    }
  },
  "nbformat": 4,
  "nbformat_minor": 0
}